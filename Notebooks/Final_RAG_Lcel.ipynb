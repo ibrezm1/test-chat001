{
  "nbformat": 4,
  "nbformat_minor": 0,
  "metadata": {
    "colab": {
      "provenance": []
    },
    "kernelspec": {
      "name": "python3",
      "display_name": "Python 3"
    },
    "language_info": {
      "name": "python"
    }
  },
  "cells": [
    {
      "cell_type": "code",
      "execution_count": 7,
      "metadata": {
        "colab": {
          "base_uri": "https://localhost:8080/"
        },
        "id": "ife-0l5ztSKr",
        "outputId": "60ca7598-6f6d-4f5b-95a3-e10fff4afb7c"
      },
      "outputs": [
        {
          "output_type": "stream",
          "name": "stdout",
          "text": [
            "\u001b[?25l     \u001b[90m━━━━━━━━━━━━━━━━━━━━━━━━━━━━━━━━━━━━━━━━\u001b[0m \u001b[32m0.0/583.8 kB\u001b[0m \u001b[31m?\u001b[0m eta \u001b[36m-:--:--\u001b[0m\r\u001b[2K     \u001b[91m━━━━━━\u001b[0m\u001b[90m╺\u001b[0m\u001b[90m━━━━━━━━━━━━━━━━━━━━━━━━━━━━━━━━━\u001b[0m \u001b[32m92.2/583.8 kB\u001b[0m \u001b[31m2.6 MB/s\u001b[0m eta \u001b[36m0:00:01\u001b[0m\r\u001b[2K     \u001b[90m━━━━━━━━━━━━━━━━━━━━━━━━━━━━━━━━━━━━━━━━\u001b[0m \u001b[32m583.8/583.8 kB\u001b[0m \u001b[31m9.2 MB/s\u001b[0m eta \u001b[36m0:00:00\u001b[0m\n",
            "\u001b[?25h  Installing build dependencies ... \u001b[?25l\u001b[?25hdone\n",
            "  Getting requirements to build wheel ... \u001b[?25l\u001b[?25hdone\n",
            "  Preparing metadata (pyproject.toml) ... \u001b[?25l\u001b[?25hdone\n",
            "\u001b[2K     \u001b[90m━━━━━━━━━━━━━━━━━━━━━━━━━━━━━━━━━━━━━━━━\u001b[0m \u001b[32m803.1/803.1 kB\u001b[0m \u001b[31m45.8 MB/s\u001b[0m eta \u001b[36m0:00:00\u001b[0m\n",
            "\u001b[2K     \u001b[90m━━━━━━━━━━━━━━━━━━━━━━━━━━━━━━━━━━━━━━━━\u001b[0m \u001b[32m5.2/5.2 MB\u001b[0m \u001b[31m62.3 MB/s\u001b[0m eta \u001b[36m0:00:00\u001b[0m\n",
            "\u001b[2K     \u001b[90m━━━━━━━━━━━━━━━━━━━━━━━━━━━━━━━━━━━━━━━━\u001b[0m \u001b[32m8.4/8.4 MB\u001b[0m \u001b[31m56.2 MB/s\u001b[0m eta \u001b[36m0:00:00\u001b[0m\n",
            "\u001b[2K     \u001b[90m━━━━━━━━━━━━━━━━━━━━━━━━━━━━━━━━━━━━━━━━\u001b[0m \u001b[32m139.3/139.3 kB\u001b[0m \u001b[31m16.0 MB/s\u001b[0m eta \u001b[36m0:00:00\u001b[0m\n",
            "\u001b[2K     \u001b[90m━━━━━━━━━━━━━━━━━━━━━━━━━━━━━━━━━━━━━━━━\u001b[0m \u001b[32m82.1/82.1 kB\u001b[0m \u001b[31m8.2 MB/s\u001b[0m eta \u001b[36m0:00:00\u001b[0m\n",
            "\u001b[2K     \u001b[90m━━━━━━━━━━━━━━━━━━━━━━━━━━━━━━━━━━━━━━━━\u001b[0m \u001b[32m1.3/1.3 MB\u001b[0m \u001b[31m51.1 MB/s\u001b[0m eta \u001b[36m0:00:00\u001b[0m\n",
            "\u001b[2K     \u001b[90m━━━━━━━━━━━━━━━━━━━━━━━━━━━━━━━━━━━━━━━━\u001b[0m \u001b[32m14.7/14.7 MB\u001b[0m \u001b[31m70.8 MB/s\u001b[0m eta \u001b[36m0:00:00\u001b[0m\n",
            "\u001b[2K     \u001b[90m━━━━━━━━━━━━━━━━━━━━━━━━━━━━━━━━━━━━━━━━\u001b[0m \u001b[32m115.3/115.3 kB\u001b[0m \u001b[31m14.5 MB/s\u001b[0m eta \u001b[36m0:00:00\u001b[0m\n",
            "\u001b[2K     \u001b[90m━━━━━━━━━━━━━━━━━━━━━━━━━━━━━━━━━━━━━━━━\u001b[0m \u001b[32m1.5/1.5 MB\u001b[0m \u001b[31m59.7 MB/s\u001b[0m eta \u001b[36m0:00:00\u001b[0m\n",
            "\u001b[2K     \u001b[90m━━━━━━━━━━━━━━━━━━━━━━━━━━━━━━━━━━━━━━━━\u001b[0m \u001b[32m205.7/205.7 kB\u001b[0m \u001b[31m22.7 MB/s\u001b[0m eta \u001b[36m0:00:00\u001b[0m\n",
            "\u001b[2K     \u001b[90m━━━━━━━━━━━━━━━━━━━━━━━━━━━━━━━━━━━━━━━━\u001b[0m \u001b[32m46.7/46.7 kB\u001b[0m \u001b[31m5.9 MB/s\u001b[0m eta \u001b[36m0:00:00\u001b[0m\n",
            "\u001b[2K     \u001b[90m━━━━━━━━━━━━━━━━━━━━━━━━━━━━━━━━━━━━━━━━\u001b[0m \u001b[32m190.6/190.6 kB\u001b[0m \u001b[31m22.6 MB/s\u001b[0m eta \u001b[36m0:00:00\u001b[0m\n",
            "\u001b[2K     \u001b[90m━━━━━━━━━━━━━━━━━━━━━━━━━━━━━━━━━━━━━━━━\u001b[0m \u001b[32m4.8/4.8 MB\u001b[0m \u001b[31m81.4 MB/s\u001b[0m eta \u001b[36m0:00:00\u001b[0m\n",
            "\u001b[2K     \u001b[90m━━━━━━━━━━━━━━━━━━━━━━━━━━━━━━━━━━━━━━━━\u001b[0m \u001b[32m82.1/82.1 kB\u001b[0m \u001b[31m10.9 MB/s\u001b[0m eta \u001b[36m0:00:00\u001b[0m\n",
            "\u001b[2K     \u001b[90m━━━━━━━━━━━━━━━━━━━━━━━━━━━━━━━━━━━━━━━━\u001b[0m \u001b[32m75.0/75.0 kB\u001b[0m \u001b[31m10.0 MB/s\u001b[0m eta \u001b[36m0:00:00\u001b[0m\n",
            "\u001b[2K     \u001b[90m━━━━━━━━━━━━━━━━━━━━━━━━━━━━━━━━━━━━━━━━\u001b[0m \u001b[32m11.6/11.6 MB\u001b[0m \u001b[31m73.3 MB/s\u001b[0m eta \u001b[36m0:00:00\u001b[0m\n",
            "\u001b[2K     \u001b[90m━━━━━━━━━━━━━━━━━━━━━━━━━━━━━━━━━━━━━━━━\u001b[0m \u001b[32m139.1/139.1 kB\u001b[0m \u001b[31m15.4 MB/s\u001b[0m eta \u001b[36m0:00:00\u001b[0m\n",
            "\u001b[2K     \u001b[90m━━━━━━━━━━━━━━━━━━━━━━━━━━━━━━━━━━━━━━━━\u001b[0m \u001b[32m82.0/82.0 kB\u001b[0m \u001b[31m9.1 MB/s\u001b[0m eta \u001b[36m0:00:00\u001b[0m\n",
            "\u001b[2K     \u001b[90m━━━━━━━━━━━━━━━━━━━━━━━━━━━━━━━━━━━━━━━━\u001b[0m \u001b[32m49.4/49.4 kB\u001b[0m \u001b[31m5.6 MB/s\u001b[0m eta \u001b[36m0:00:00\u001b[0m\n",
            "\u001b[2K     \u001b[90m━━━━━━━━━━━━━━━━━━━━━━━━━━━━━━━━━━━━━━━━\u001b[0m \u001b[32m62.7/62.7 kB\u001b[0m \u001b[31m7.1 MB/s\u001b[0m eta \u001b[36m0:00:00\u001b[0m\n",
            "\u001b[2K     \u001b[90m━━━━━━━━━━━━━━━━━━━━━━━━━━━━━━━━━━━━━━━━\u001b[0m \u001b[32m56.8/56.8 kB\u001b[0m \u001b[31m5.6 MB/s\u001b[0m eta \u001b[36m0:00:00\u001b[0m\n",
            "\u001b[2K     \u001b[90m━━━━━━━━━━━━━━━━━━━━━━━━━━━━━━━━━━━━━━━━\u001b[0m \u001b[32m134.8/134.8 kB\u001b[0m \u001b[31m13.9 MB/s\u001b[0m eta \u001b[36m0:00:00\u001b[0m\n",
            "\u001b[2K     \u001b[90m━━━━━━━━━━━━━━━━━━━━━━━━━━━━━━━━━━━━━━━━\u001b[0m \u001b[32m81.8/81.8 kB\u001b[0m \u001b[31m3.9 MB/s\u001b[0m eta \u001b[36m0:00:00\u001b[0m\n",
            "\u001b[?25h  Building wheel for deeplake (pyproject.toml) ... \u001b[?25l\u001b[?25hdone\n"
          ]
        }
      ],
      "source": [
        "# prompt: pip install deeplake langchain tensorflow_text google-cloud-aiplatform streamlit\n",
        "\n",
        "!pip install -q deeplake langchain tensorflow_text google-cloud-aiplatform streamlit\n"
      ]
    },
    {
      "cell_type": "code",
      "source": [
        "# prompt: loggin in google with collab and load drive\n",
        "\n",
        "from google.colab import auth\n",
        "auth.authenticate_user()\n",
        "from google.colab import drive\n",
        "drive.mount('/content/drive')\n"
      ],
      "metadata": {
        "colab": {
          "base_uri": "https://localhost:8080/"
        },
        "id": "p1sO2jmbtpGz",
        "outputId": "2c00cf32-3d8d-4a63-b93c-963a6f8f70dc"
      },
      "execution_count": 15,
      "outputs": [
        {
          "output_type": "stream",
          "name": "stdout",
          "text": [
            "Mounted at /content/drive\n"
          ]
        }
      ]
    },
    {
      "cell_type": "code",
      "source": [
        "import vertexai\n",
        "import os\n",
        "from langchain.llms import VertexAI\n",
        "\n",
        "PROJECT_ID = 'zeta-yen-319702'\n",
        "REGION = 'us-central1'\n",
        "BUCKET = 'gs://zeta-yen-319702-temp/'\n",
        "\n",
        "\n",
        "vertexai.init(\n",
        "    project=PROJECT_ID,\n",
        "    location=REGION,\n",
        "    staging_bucket=BUCKET\n",
        ")\n",
        "\n",
        "# https://cloud.google.com/vertex-ai/docs/generative-ai/learn/models#:~:text=PaLM%202%20for%20Text%20(%20text%2Dunicorn%20),with%20complex%20natural%20language%20tasks.\n",
        "\n",
        "\n",
        "llm = VertexAI(\n",
        "    #model_name=\"text-bison@001\",\n",
        "    model_name=\"text-bison\",\n",
        "    max_output_tokens=256,\n",
        "    temperature=0.8,\n",
        "    top_p=0.8,\n",
        "    top_k=5,\n",
        "    verbose=False,\n",
        ")\n",
        "\n",
        "llm(prompt='Hi how are you?')"
      ],
      "metadata": {
        "colab": {
          "base_uri": "https://localhost:8080/",
          "height": 35
        },
        "id": "iHQZpyBmt484",
        "outputId": "28258c14-0b57-475d-89be-e1e37389f6d8"
      },
      "execution_count": 16,
      "outputs": [
        {
          "output_type": "execute_result",
          "data": {
            "text/plain": [
              "\" I'm doing great, thanks for asking! How are you?\""
            ],
            "application/vnd.google.colaboratory.intrinsic+json": {
              "type": "string"
            }
          },
          "metadata": {},
          "execution_count": 16
        }
      ]
    },
    {
      "cell_type": "code",
      "source": [
        "!wget 'https://gist.githubusercontent.com/phillipj/4944029/raw/75ba2243dd5ec2875f629bf5d79f6c1e4b5a8b46/alice_in_wonderland.txt'  -O alice_in_wonderland.txt\n",
        "!wget \"https://raw.githubusercontent.com/amephraim/nlp/master/texts/J.%20K.%20Rowling%20-%20Harry%20Potter%201%20-%20Sorcerer's%20Stone.txt\" -O Sorcerer_stone.txt"
      ],
      "metadata": {
        "colab": {
          "base_uri": "https://localhost:8080/"
        },
        "id": "2WATPr7Qu3WZ",
        "outputId": "fa20351c-f059-490b-c08a-d803101b8d97"
      },
      "execution_count": 9,
      "outputs": [
        {
          "output_type": "stream",
          "name": "stdout",
          "text": [
            "--2024-01-02 22:29:46--  https://gist.githubusercontent.com/phillipj/4944029/raw/75ba2243dd5ec2875f629bf5d79f6c1e4b5a8b46/alice_in_wonderland.txt\n",
            "Resolving gist.githubusercontent.com (gist.githubusercontent.com)... 185.199.108.133, 185.199.109.133, 185.199.110.133, ...\n",
            "Connecting to gist.githubusercontent.com (gist.githubusercontent.com)|185.199.108.133|:443... connected.\n",
            "HTTP request sent, awaiting response... 200 OK\n",
            "Length: 148574 (145K) [text/plain]\n",
            "Saving to: ‘alice_in_wonderland.txt’\n",
            "\n",
            "\ralice_in_wonderland   0%[                    ]       0  --.-KB/s               \ralice_in_wonderland 100%[===================>] 145.09K  --.-KB/s    in 0.003s  \n",
            "\n",
            "2024-01-02 22:29:46 (41.6 MB/s) - ‘alice_in_wonderland.txt’ saved [148574/148574]\n",
            "\n",
            "--2024-01-02 22:29:46--  https://raw.githubusercontent.com/amephraim/nlp/master/texts/J.%20K.%20Rowling%20-%20Harry%20Potter%201%20-%20Sorcerer's%20Stone.txt\n",
            "Resolving raw.githubusercontent.com (raw.githubusercontent.com)... 185.199.108.133, 185.199.109.133, 185.199.110.133, ...\n",
            "Connecting to raw.githubusercontent.com (raw.githubusercontent.com)|185.199.108.133|:443... connected.\n",
            "HTTP request sent, awaiting response... 200 OK\n",
            "Length: 439742 (429K) [text/plain]\n",
            "Saving to: ‘Sorcerer_stone.txt’\n",
            "\n",
            "Sorcerer_stone.txt  100%[===================>] 429.44K  --.-KB/s    in 0.006s  \n",
            "\n",
            "2024-01-02 22:29:46 (64.8 MB/s) - ‘Sorcerer_stone.txt’ saved [439742/439742]\n",
            "\n"
          ]
        }
      ]
    },
    {
      "cell_type": "code",
      "source": [
        "from langchain.embeddings import TensorflowHubEmbeddings\n",
        "from langchain.vectorstores import DeepLake\n",
        "url = \"https://tfhub.dev/google/universal-sentence-encoder-multilingual/3\"\n",
        "embed_model = TensorflowHubEmbeddings(model_url=url)\n",
        "\n",
        "db = DeepLake(dataset_path='./deeplk', \\\n",
        "                       embedding=embed_model)\n",
        "\n",
        "def load_doc(filename,metatag):\n",
        "  from langchain.document_loaders import TextLoader\n",
        "  from langchain.text_splitter import CharacterTextSplitter\n",
        "\n",
        "  loader = TextLoader(filename)\n",
        "  documents = loader.load()\n",
        "  text_splitter = CharacterTextSplitter(chunk_size=1000, chunk_overlap=0)\n",
        "  docs = text_splitter.split_documents(documents)\n",
        "  for d in docs:\n",
        "    for key, value in metatag.items():\n",
        "      d.metadata[key] = value\n",
        "  return docs\n",
        "\n",
        "\n",
        "alice_docs = load_doc('alice_in_wonderland.txt' ,{\"author\": \"Lewis\", \"book\": \"Alice\"})\n",
        "stone_docs = load_doc('Sorcerer_stone.txt' ,{\"author\": \"Rowling\", \"book\": \"Stone\"})\n",
        "\n",
        "lista_docs = db.add_documents(alice_docs)\n",
        "lists_docs = db.add_documents(stone_docs)\n",
        "\n",
        "query = \"What was the Mad Hatter's riddle about raven and writing desks?\"\n",
        "docs = db.similarity_search(query)\n",
        "print(docs[0].page_content)\n",
        "\n",
        "db.similarity_search(\n",
        "    \"What color was the Sorcerer stone?\",\n",
        "    filter={\"metadata\": {\"author\": \"Rowling\"}},\n",
        ")\n",
        "\n",
        "\n"
      ],
      "metadata": {
        "colab": {
          "base_uri": "https://localhost:8080/"
        },
        "id": "yiea7HAqu0ot",
        "outputId": "a029298a-2534-4320-808a-4c5b4074cdc2"
      },
      "execution_count": 10,
      "outputs": [
        {
          "output_type": "stream",
          "name": "stderr",
          "text": [
            "\r\r\r\rWARNING:langchain.text_splitter:Created a chunk of size 1216, which is longer than the specified 1000\n",
            "WARNING:langchain.text_splitter:Created a chunk of size 1071, which is longer than the specified 1000\n",
            "Creating 178 embeddings in 1 batches of size 178:: 100%|██████████| 1/1 [00:07<00:00,  7.93s/it]\n"
          ]
        },
        {
          "output_type": "stream",
          "name": "stdout",
          "text": [
            "Dataset(path='./deeplk', tensors=['text', 'metadata', 'embedding', 'id'])\n",
            "\n",
            "  tensor      htype      shape      dtype  compression\n",
            "  -------    -------    -------    -------  ------- \n",
            "   text       text      (178, 1)     str     None   \n",
            " metadata     json      (178, 1)     str     None   \n",
            " embedding  embedding  (178, 512)  float32   None   \n",
            "    id        text      (178, 1)     str     None   \n"
          ]
        },
        {
          "output_type": "stream",
          "name": "stderr",
          "text": [
            "Creating 512 embeddings in 2 batches of size 500:: 100%|██████████| 2/2 [00:15<00:00,  7.99s/it]\n"
          ]
        },
        {
          "output_type": "stream",
          "name": "stdout",
          "text": [
            "Dataset(path='./deeplk', tensors=['text', 'metadata', 'embedding', 'id'])\n",
            "\n",
            "  tensor      htype      shape      dtype  compression\n",
            "  -------    -------    -------    -------  ------- \n",
            "   text       text      (690, 1)     str     None   \n",
            " metadata     json      (690, 1)     str     None   \n",
            " embedding  embedding  (690, 512)  float32   None   \n",
            "    id        text      (690, 1)     str     None   \n",
            "`I'm a poor man, your Majesty,' the Hatter began, in a\n",
            "trembling voice, `--and I hadn't begun my tea--not above a week\n",
            "or so--and what with the bread-and-butter getting so thin--and\n",
            "the twinkling of the tea--'\n",
            "\n",
            "  `The twinkling of the what?' said the King.\n",
            "\n",
            "  `It began with the tea,' the Hatter replied.\n",
            "\n",
            "  `Of course twinkling begins with a T!' said the King sharply.\n",
            "`Do you take me for a dunce?  Go on!'\n",
            "\n",
            "  `I'm a poor man,' the Hatter went on, `and most things\n",
            "twinkled after that--only the March Hare said--'\n",
            "\n",
            "  `I didn't!' the March Hare interrupted in a great hurry.\n",
            "\n",
            "  `You did!' said the Hatter.\n",
            "\n",
            "  `I deny it!' said the March Hare.\n",
            "\n",
            "  `He denies it,' said the King:  `leave out that part.'\n",
            "\n",
            "  `Well, at any rate, the Dormouse said--' the Hatter went on,\n",
            "looking anxiously round to see if he would deny it too:  but the\n",
            "Dormouse denied nothing, being fast asleep.\n",
            "\n",
            "  `After that,' continued the Hatter, `I cut some more bread-\n",
            "and-butter--'\n"
          ]
        },
        {
          "output_type": "stream",
          "name": "stderr",
          "text": [
            "100%|██████████| 690/690 [00:00<00:00, 2420.08it/s]\n"
          ]
        },
        {
          "output_type": "execute_result",
          "data": {
            "text/plain": [
              "[Document(page_content='She pushed the book toward them, and Harry and Ron read: The ancient\\nstudy of alchemy is concerned with making the Sorcerer\\'s Stone, a\\nlegendary substance with astonishing powers. The stone will transform\\nany metal into pure gold. It also produces the Elixir of Life, which\\nwill make the drinker immortal.\\n\\nThere have been many reports of the Sorcerer\\'s Stone over the centuries,\\nbut the only Stone currently in existence belongs to Mr. Nicolas Flamel,\\nthe noted alchemist and opera lover. Mr. Flamel, who celebrated his six\\nhundred and sixty-fifth birthday last year, enjoys a quiet life in Devon\\nwith his wife, Perenelle (six hundred and fifty-eight).\\n\\n\"See?\" said Hermione, when Harry and Ron had finished. \"The dog must be\\nguarding Flamel\\'s Sorcerer\\'s Stone! I bet he asked Dumbledore to keep it\\nsafe for him, because they\\'re friends and he knew someone was after it,\\nthat\\'s why he wanted the Stone moved out of Gringotts!\"', metadata={'source': 'Sorcerer_stone.txt', 'author': 'Rowling', 'book': 'Stone'}),\n",
              " Document(page_content=\"They had indeed been searching books for Flamel's name ever since Hagrid\\nhad let it slip, because how else were they going to find out what Snape\\nwas trying to steal? The trouble was, it was very hard to know where to\\nbegin, not knowing what Flamel might have done to get himself into a\\nbook. He wasn't in Great Wizards of the Twentieth Century, or Notable\\nMagical Names of Our Time; he was missing, too, from Important Modern\\nMagical Discoveries, and A Study of Recent Developments in Wizardry. And\\nthen, of course, there was the sheer size of the library; tens of\\nthousands of books; thousands of shelves; hundreds of narrow rows.\", metadata={'source': 'Sorcerer_stone.txt', 'author': 'Rowling', 'book': 'Stone'}),\n",
              " Document(page_content='\"So what is Quidditch?\"\\n\\n\"It\\'s our sport. Wizard sport. It\\'s like -- like soccer in the Muggle\\nworld -- everyone follows Quidditch -- played up in the air on\\nbroomsticks and there\\'s four balls -- sorta hard ter explain the rules.\"\\n\"And what are Slytherin and Hufflepuff?\"\\n\\n\"School houses. There\\'s four. Everyone says Hufflepuff are a lot o\\'\\nduffers, but --\"\\n\\n\"I bet I\\'m in Hufflepuff\" said Harry gloomily.\\n\\n\"Better Hufflepuff than Slytherin,\" said Hagrid darkly. \"There\\'s not a\\nsingle witch or wizard who went bad who wasn\\'t in Slytherin.\\nYou-Know-Who was one.\"\\n\\n\"Vol-, sorry - You-Know-Who was at Hogwarts?\"\\n\\n\"Years an\\' years ago,\" said Hagrid.', metadata={'source': 'Sorcerer_stone.txt', 'author': 'Rowling', 'book': 'Stone'}),\n",
              " Document(page_content='\"Sit down,\" he snapped at Hermione. \"For your information, Potter,\\nasphodel and wormwood make a sleeping potion so powerful it is known as\\nthe Draught of Living Death. A bezoar is a stone taken from the stomach\\nof a goat and it will save you from most poisons. As for monkshood and\\nwolfsbane, they are the same plant, which also goes by the name of\\naconite. Well? Why aren\\'t you all copying that down?\"\\n\\nThere was a sudden rummaging for quills and parchment. Over the noise,\\nSnape said, \"And a point will be taken from Gryffindor House for your\\ncheek, Potter.\"', metadata={'source': 'Sorcerer_stone.txt', 'author': 'Rowling', 'book': 'Stone'})]"
            ]
          },
          "metadata": {},
          "execution_count": 10
        }
      ]
    },
    {
      "cell_type": "code",
      "source": [
        "retriever=db.as_retriever()\n",
        "retriever.search_kwargs['distance_metric'] = 'cos'\n",
        "retriever.search_kwargs['fetch_k'] = 100\n",
        "retriever.search_kwargs['maximal_marginal_relevance'] = True\n",
        "retriever.search_kwargs['k'] = 20\n",
        "\n",
        "retriever.search_kwargs['reduce_k_below_max_tokens'] = True\n",
        "retriever.search_kwargs['max_tokens_limit'] = 3000\n",
        "retriever.search_kwargs['filter'] = {\"metadata\": {\"author\": \"Rowling\"}}"
      ],
      "metadata": {
        "id": "7kspZY9-veUe"
      },
      "execution_count": null,
      "outputs": []
    },
    {
      "cell_type": "code",
      "source": [
        "# prompt: generate all imports for below code from operator import itemgetter  from langchain_core.runnables import RunnableParallel  template = \"\"\"Use the following pieces of context to answer the question at the end. If you don't know the answer, just say that you don't know, don't try to make up an answer. Use three sentences maximum and keep the answer as concise as possible. Always say \"thanks for asking!\" at the end of the answer. {context} Chat History: {chat_history} Question: {question} Helpful Answer:\"\"\" rag_prompt_custom = PromptTemplate.from_template(template)  def format_docs(docs):     return \"\\n\\n\".join(doc.page_content for doc in docs)  def format_history(chat_history):     return \"\\n\\n\".join(f'{chat.type} : {chat.content}\\n' for chat in chat_history)    rag_chain_from_docs = (     {         \"context\": lambda input: format_docs(input[\"documents\"]),         \"question\": itemgetter(\"question\"),         \"chat_history\": lambda input: format_history ([             HumanMessage(content=\"What does LLM stand for?\"),             AIMessage(content=\"Large language model\"),         ])     }     | rag_prompt_custom     | llm     | StrOutputParser() ) rag_chain_with_source = RunnableParallel(     {\"documents\": retriever, \"question\": RunnablePassthrough()} ) | {     \"documents\": lambda input: [doc.metadata for doc in input[\"documents\"]],     \"answer\": rag_chain_from_docs, }  rag_chain_with_source.invoke(\"What is Task Decomposition\")\n",
        "\n",
        "from operator import itemgetter\n",
        "from langchain_core.runnables import RunnableParallel\n",
        "from langchain.prompts import PromptTemplate\n",
        "from langchain.schema import StrOutputParser\n",
        "from langchain_core.messages import AIMessage, HumanMessage\n",
        "from langchain_core.runnables import RunnablePassthrough\n",
        "from langchain.llms import VertexAI\n",
        "\n"
      ],
      "metadata": {
        "id": "XnPxxsLAuE4s"
      },
      "execution_count": 19,
      "outputs": []
    },
    {
      "cell_type": "code",
      "source": [
        "from operator import itemgetter\n",
        "\n",
        "from langchain_core.runnables import RunnableParallel\n",
        "\n",
        "template = \"\"\"Use the following pieces of context to answer the question at the end.\n",
        "If you don't know the answer, just say that you don't know, don't try to make up an answer.\n",
        "Use three sentences maximum and keep the answer as concise as possible.\n",
        "Always say \"thanks for asking!\" at the end of the answer.\n",
        "{context}\n",
        "Chat History:\n",
        "{chat_history}\n",
        "Question: {question}\n",
        "Helpful Answer:\"\"\"\n",
        "rag_prompt_custom = PromptTemplate.from_template(template)\n",
        "\n",
        "def format_docs(docs):\n",
        "    return \"\\n\\n\".join(doc.page_content for doc in docs)\n",
        "\n",
        "def format_history(chat_history):\n",
        "    return \"\\n\\n\".join(f'{chat.type} : {chat.content}\\n' for chat in chat_history)\n",
        "\n",
        "\n",
        "\n",
        "rag_chain_from_docs = (\n",
        "    {\n",
        "        \"context\": lambda input: format_docs(input[\"documents\"]),\n",
        "        \"question\": itemgetter(\"question\"),\n",
        "        \"chat_history\": lambda input: format_history ([\n",
        "            HumanMessage(content=\"What game was alice playing with the queen\"),\n",
        "            AIMessage(content=\"croquet\"),\n",
        "        ])\n",
        "    }\n",
        "    | rag_prompt_custom\n",
        "    | llm\n",
        "    | StrOutputParser()\n",
        ")\n",
        "rag_chain_with_source = RunnableParallel(\n",
        "    {\"documents\": retriever, \"question\": RunnablePassthrough()}\n",
        ") | {\n",
        "    \"documents\": lambda input: [doc.metadata for doc in input[\"documents\"]],\n",
        "    \"answer\": rag_chain_from_docs,\n",
        "}\n",
        "\n",
        "rag_chain_with_source.invoke(\"Why was it difficult?\")"
      ],
      "metadata": {
        "colab": {
          "base_uri": "https://localhost:8080/"
        },
        "id": "rF_T54i4tUsj",
        "outputId": "79238239-28b6-4621-fb15-f215369c5656"
      },
      "execution_count": null,
      "outputs": [
        {
          "output_type": "execute_result",
          "data": {
            "text/plain": [
              "{'documents': [{'source': 'alice_in_wonderland.txt',\n",
              "   'author': 'Lewis',\n",
              "   'book': 'Alice'},\n",
              "  {'source': 'alice_in_wonderland.txt', 'author': 'Lewis', 'book': 'Alice'},\n",
              "  {'source': 'Sorcerer_stone.txt', 'author': 'Rowling', 'book': 'Stone'},\n",
              "  {'source': 'Sorcerer_stone.txt', 'author': 'Rowling', 'book': 'Stone'}],\n",
              " 'answer': ' It was difficult because the flamingo kept twisting around and looking up at her with a puzzled expression, the hedgehog kept unrolling itself and crawling away, and there were always ridges or furrows in the way wherever she wanted to send the hedgehog. Thanks for asking!'}"
            ]
          },
          "metadata": {},
          "execution_count": 25
        }
      ]
    },
    {
      "cell_type": "code",
      "source": [
        "from langchain.prompts import ChatPromptTemplate\n",
        "template = \"\"\"Answer the question based only on the following context:\n",
        "{context}\n",
        "\n",
        "Question: {question}\n",
        "\n",
        "Answer in the following language: {language}\n",
        "\"\"\"\n",
        "prompt = ChatPromptTemplate.from_template(template)\n",
        "\n",
        "chain = (\n",
        "    {\n",
        "        \"context\": itemgetter(\"question\") | retriever,\n",
        "        \"question\": itemgetter(\"question\"),\n",
        "        \"language\": itemgetter(\"language\"),\n",
        "    }\n",
        "    | prompt\n",
        "    | llm\n",
        "    | StrOutputParser()\n",
        ")\n",
        "\n",
        "chain.invoke({\"question\": \"where did harrison work\", \"language\": \"italian\"})"
      ],
      "metadata": {
        "colab": {
          "base_uri": "https://localhost:8080/",
          "height": 35
        },
        "id": "eqOUH-9a85fg",
        "outputId": "b7ab5da0-0059-44c6-92e7-6c5fe15c0a71"
      },
      "execution_count": null,
      "outputs": [
        {
          "output_type": "execute_result",
          "data": {
            "text/plain": [
              "' Il testo fornito non contiene informazioni sul luogo di lavoro di Harrison.'"
            ],
            "application/vnd.google.colaboratory.intrinsic+json": {
              "type": "string"
            }
          },
          "metadata": {},
          "execution_count": 26
        }
      ]
    },
    {
      "cell_type": "code",
      "source": [
        "# https://python.langchain.com/docs/expression_language/cookbook/retrieval\n",
        "# https://colab.research.google.com/drive/10kA1-cYf0oiHDKUqEHgA-5S0-5hAVo-W#scrollTo=ded41680-b749-4e2a-9daa-b1165d74783b\n",
        "\n",
        "# stream\n",
        "# https://python.langchain.com/docs/integrations/chat/google_vertex_ai_palm\n",
        "\n",
        "\n"
      ],
      "metadata": {
        "id": "XtfADZci_t0i"
      },
      "execution_count": null,
      "outputs": []
    },
    {
      "cell_type": "code",
      "source": [
        "from langchain.schema import format_document\n",
        "from langchain_core.messages import AIMessage, HumanMessage, get_buffer_string\n",
        "from langchain_core.runnables import RunnableParallel\n",
        "\n",
        "from langchain.prompts.prompt import PromptTemplate\n",
        "\n",
        "_template = \"\"\"Given the following conversation and a follow up question, rephrase the follow up question to be a standalone question, in its original language.\n",
        "\n",
        "Chat History:\n",
        "{chat_history}\n",
        "Follow Up Input: {question}\n",
        "Standalone question:\"\"\"\n",
        "CONDENSE_QUESTION_PROMPT = PromptTemplate.from_template(_template)"
      ],
      "metadata": {
        "id": "VkfVlLrOueqZ"
      },
      "execution_count": null,
      "outputs": []
    },
    {
      "cell_type": "code",
      "source": [
        "template = \"\"\"Answer the question based only on the following context:\n",
        "{context}\n",
        "\n",
        "Question: {question}\n",
        "\"\"\"\n",
        "ANSWER_PROMPT = ChatPromptTemplate.from_template(template)\n",
        "\n",
        "\n",
        "\n",
        "DEFAULT_DOCUMENT_PROMPT = PromptTemplate.from_template(template=\"{page_content}\")\n",
        "\n",
        "def _combine_documents(\n",
        "    docs, document_prompt=DEFAULT_DOCUMENT_PROMPT, document_separator=\"\\n\\n\"\n",
        "):\n",
        "    doc_strings = [format_document(doc, document_prompt) for doc in docs]\n",
        "    return document_separator.join(doc_strings)\n",
        "\n",
        "_inputs = RunnableParallel(\n",
        "    standalone_question=RunnablePassthrough.assign(\n",
        "        chat_history=lambda x: get_buffer_string(x[\"chat_history\"])\n",
        "    )\n",
        "    | CONDENSE_QUESTION_PROMPT\n",
        "    | llm\n",
        "    | StrOutputParser(),\n",
        ")\n",
        "_context = {\n",
        "    \"context\": itemgetter(\"standalone_question\") | retriever | _combine_documents,\n",
        "    \"question\": lambda x: x[\"standalone_question\"],\n",
        "}\n",
        "conversational_qa_chain = _inputs | _context | ANSWER_PROMPT | llm"
      ],
      "metadata": {
        "id": "XR8mz1JWuwhp"
      },
      "execution_count": null,
      "outputs": []
    },
    {
      "cell_type": "code",
      "source": [
        "conversational_qa_chain.invoke(\n",
        "    {\n",
        "        \"question\": \"where did harrison work?\",\n",
        "        \"chat_history\": [],\n",
        "    }\n",
        ")"
      ],
      "metadata": {
        "colab": {
          "base_uri": "https://localhost:8080/",
          "height": 35
        },
        "id": "tuCt6JU3vGVv",
        "outputId": "0a2339e2-7b35-4e2a-af74-6f703cba3926"
      },
      "execution_count": null,
      "outputs": [
        {
          "output_type": "execute_result",
          "data": {
            "text/plain": [
              "' The provided text does not mention where Harrison works.'"
            ],
            "application/vnd.google.colaboratory.intrinsic+json": {
              "type": "string"
            }
          },
          "metadata": {},
          "execution_count": 53
        }
      ]
    },
    {
      "cell_type": "code",
      "source": [
        "conversational_qa_chain.invoke(\n",
        "    {\n",
        "        \"question\": \"where did he work?\",\n",
        "        \"chat_history\": [\n",
        "            HumanMessage(content=\"Who wrote this notebook?\"),\n",
        "            AIMessage(content=\"Harrison\"),\n",
        "        ],\n",
        "    }\n",
        ")"
      ],
      "metadata": {
        "colab": {
          "base_uri": "https://localhost:8080/",
          "height": 35
        },
        "id": "CKLa9jVBivPi",
        "outputId": "f1387034-a97a-4668-d1b1-790315282e23"
      },
      "execution_count": null,
      "outputs": [
        {
          "output_type": "execute_result",
          "data": {
            "text/plain": [
              "' The provided text does not mention where Harrison works.'"
            ],
            "application/vnd.google.colaboratory.intrinsic+json": {
              "type": "string"
            }
          },
          "metadata": {},
          "execution_count": 52
        }
      ]
    },
    {
      "cell_type": "code",
      "source": [
        "from operator import itemgetter\n",
        "from langchain_core.runnables import RunnableLambda\n",
        "from langchain.memory import ConversationBufferMemory\n",
        "\n",
        "memory = ConversationBufferMemory(\n",
        "    return_messages=True, output_key=\"answer\", input_key=\"question\"\n",
        ")\n",
        "\n",
        "# First we add a step to load memory\n",
        "# This adds a \"memory\" key to the input object\n",
        "loaded_memory = RunnablePassthrough.assign(\n",
        "    chat_history=RunnableLambda(memory.load_memory_variables) | itemgetter(\"history\"),\n",
        ")\n",
        "# Now we calculate the standalone question\n",
        "standalone_question = {\n",
        "    \"standalone_question\": {\n",
        "        \"question\": lambda x: x[\"question\"],\n",
        "        \"chat_history\": lambda x: get_buffer_string(x[\"chat_history\"]),\n",
        "    }\n",
        "    | CONDENSE_QUESTION_PROMPT\n",
        "    | llm\n",
        "    | StrOutputParser(),\n",
        "}\n",
        "# Now we retrieve the documents\n",
        "retrieved_documents = {\n",
        "    \"docs\": itemgetter(\"standalone_question\") | retriever,\n",
        "    \"question\": lambda x: x[\"standalone_question\"],\n",
        "}\n",
        "# Now we construct the inputs for the final prompt\n",
        "final_inputs = {\n",
        "    \"context\": lambda x: _combine_documents(x[\"docs\"]),\n",
        "    \"question\": itemgetter(\"question\"),\n",
        "}\n",
        "# And finally, we do the part that returns the answers\n",
        "answer = {\n",
        "    \"answer\": final_inputs | ANSWER_PROMPT | llm,\n",
        "    \"docs\": itemgetter(\"docs\"),\n",
        "}\n",
        "# And now we put it all together!\n",
        "final_chain = loaded_memory | standalone_question | retrieved_documents | answer\n",
        "\n",
        "inputs = {\"question\": \"where did harry live?\"}\n",
        "result = final_chain.invoke(inputs)\n",
        "result"
      ],
      "metadata": {
        "colab": {
          "base_uri": "https://localhost:8080/"
        },
        "id": "OxeGTyovi8rc",
        "outputId": "8c41387f-8673-4576-d223-faf5c08a86e2"
      },
      "execution_count": null,
      "outputs": [
        {
          "output_type": "execute_result",
          "data": {
            "text/plain": [
              "{'answer': ' Harry lived with the Dursleys, his aunt, uncle, and cousin, in a house on Privet Drive.',\n",
              " 'docs': [Document(page_content='Hagrid was so huge that he parted the crowd easily; all Harry had to do\\nwas keep close behind him. They passed book shops and music stores,\\nhamburger restaurants and cinemas, but nowhere that looked as if it\\ncould sell you a magic wand. This was just an ordinary street full of\\nordinary people. Could there really be piles of wizard gold buried miles\\nbeneath them? Were there really shops that sold spell books and\\nbroomsticks? Might this not all be some huge joke that the Dursleys had\\ncooked up? If Harry hadn\\'t known that the Dursleys had no sense of\\nhumor, he might have thought so; yet somehow, even though everything\\nHagrid had told him so far was unbelievable, Harry couldn\\'t help\\ntrusting him.\\n\\n\"This is it,\" said Hagrid, coming to a halt, \"the Leaky Cauldron. It\\'s a\\nfamous place.\"', metadata={'source': 'Sorcerer_stone.txt', 'author': 'Rowling', 'book': 'Stone'}),\n",
              "  Document(page_content='The late afternoon sun hung low in the sky as Harry and Hagrid made\\ntheir way back down Diagon Alley, back through the wall, back through\\nthe Leaky Cauldron, now empty. Harry didn\\'t speak at all as they walked\\ndown the road; he didn\\'t even notice how much people were gawking at\\nthem on the Underground, laden as they were with all their funny-shaped\\npackages, with the snowy owl asleep in its cage on Harry\\'s lap. Up\\nanother escalator, out into Paddington station; Harry only realized\\nwhere they were when Hagrid tapped him on the shoulder.\\n\\n\"Got time fer a bite to eat before yer train leaves,\" he said.\\n\\nHe bought Harry a hamburger and they sat down on plastic seats to eat\\nthem. Harry kept looking around. Everything looked so strange, somehow.\\n\\n\"You all right, Harry? Yer very quiet,\" said Hagrid.\\n\\nHarry wasn\\'t sure he could explain. He\\'d just had the best birthday of\\nhis life -- and yet -- he chewed his hamburger, trying to find the\\nwords.', metadata={'source': 'Sorcerer_stone.txt', 'author': 'Rowling', 'book': 'Stone'}),\n",
              "  Document(page_content='\"Most of us reckon he\\'s still out there somewhere but lost his powers.\\nToo weak to carry on. \\'Cause somethin\\' about you finished him, Harry.\\nThere was somethin\\' goin\\' on that night he hadn\\'t counted on -- I dunno\\nwhat it was, no one does -- but somethin\\' about you stumped him, all\\nright.\"\\n\\nHagrid looked at Harry with warmth and respect blazing in his eyes, but\\nHarry, instead of feeling pleased and proud, felt quite sure there had\\nbeen a horrible mistake. A wizard? Him? How could he possibly be? He\\'d\\nspent his life being clouted by Dudley, and bullied by Aunt Petunia and\\nUncle Vernon; if he was really a wizard, why hadn\\'t they been turned\\ninto warty toads every time they\\'d tried to lock him in his cupboard? If\\nhe\\'d once defeated the greatest sorcerer in the world, how come Dudley\\nhad always been able to kick him around like a football?\\n\\n\"Hagrid,\" he said quietly, \"I think you must have made a mistake. I\\ndon\\'t think I can be a wizard.\"\\n\\nTo his surprise, Hagrid chuckled.', metadata={'source': 'Sorcerer_stone.txt', 'author': 'Rowling', 'book': 'Stone'}),\n",
              "  Document(page_content='\"Yer ticket fer Hogwarts, \" he said. \"First o\\' September -- King\\'s Cross\\n-- it\\'s all on yer ticket. Any problems with the Dursleys, send me a\\nletter with yer owl, she\\'ll know where to find me.... See yeh soon,\\nHarry.\"\\n\\nThe train pulled out of the station. Harry wanted to watch Hagrid until\\nhe was out of sight; he rose in his seat and pressed his nose against\\nthe window, but he blinked and Hagrid had gone.\\n\\n\\nCHAPTER SIX\\n\\nTHE JOURNEY FROM PLATFORM NINE AND THREE-QUARTERS\\n\\nHarry\\'s last month with the Dursleys wasn\\'t fun. True, Dudley was now so\\nscared of Harry he wouldn\\'t stay in the same room, while Aunt Petunia\\nand Uncle Vernon didn\\'t shut Harry in his cupboard, force him to do\\nanything, or shout at him -- in fact, they didn\\'t speak to him at all.\\nHalf terrified, half furious, they acted as though any chair with Harry\\nin it were empty. Although this was an improvement in many ways, it did\\nbecome a bit depressing after a while.', metadata={'source': 'Sorcerer_stone.txt', 'author': 'Rowling', 'book': 'Stone'})]}"
            ]
          },
          "metadata": {},
          "execution_count": 51
        }
      ]
    },
    {
      "cell_type": "code",
      "source": [
        "from operator import itemgetter\n",
        "from langchain_core.runnables import RunnableLambda\n",
        "from langchain.memory import ConversationBufferMemory\n",
        "\n",
        "\n",
        "_template = \"\"\"Given the following conversation and a follow up question, rephrase the follow up question to be a standalone question, in its original language.\n",
        "\n",
        "Chat History:\n",
        "{chat_history}\n",
        "Follow Up Input: {question}\n",
        "Standalone question:\"\"\"\n",
        "CONDENSE_QUESTION_PROMPT = PromptTemplate.from_template(_template)\n",
        "\n",
        "template = \"\"\"Answer the question based only on the following context:\n",
        "{context}\n",
        "\n",
        "Question: {question}\n",
        "\"\"\"\n",
        "ANSWER_PROMPT = ChatPromptTemplate.from_template(template)\n",
        "\n",
        "\n",
        "# First we add a step to load memory\n",
        "# This adds a \"memory\" key to the input object\n",
        "loaded_memory = RunnablePassthrough.assign(\n",
        "    chat_history= itemgetter(\"chat_history\"),\n",
        ")\n",
        "# Now we calculate the standalone question\n",
        "standalone_question = {\n",
        "    \"standalone_question\": {\n",
        "        \"question\": lambda x: x[\"question\"],\n",
        "        \"chat_history\": lambda x: get_buffer_string(x[\"chat_history\"]),\n",
        "    }\n",
        "    | CONDENSE_QUESTION_PROMPT\n",
        "    | llm\n",
        "    | StrOutputParser(),\n",
        "}\n",
        "# Now we retrieve the documents\n",
        "retrieved_documents = {\n",
        "    \"docs\": itemgetter(\"standalone_question\") | retriever,\n",
        "    \"question\": lambda x: x[\"standalone_question\"],\n",
        "}\n",
        "# Now we construct the inputs for the final prompt\n",
        "final_inputs = {\n",
        "    \"context\": lambda x: _combine_documents(x[\"docs\"]),\n",
        "    \"question\": itemgetter(\"question\"),\n",
        "}\n",
        "# And finally, we do the part that returns the answers\n",
        "answer = {\n",
        "    \"answer\": final_inputs | ANSWER_PROMPT | llm,\n",
        "    \"docs\": itemgetter(\"docs\"),\n",
        "}\n",
        "# And now we put it all together!\n",
        "final_chain = loaded_memory | standalone_question | retrieved_documents | answer\n",
        "\n",
        "inputs = {\"question\": \"why was it difficult?\" ,\n",
        "          \"chat_history\" : [\n",
        "            HumanMessage(content=\"What game was alice playing with the queen\"),\n",
        "            AIMessage(content=\"croquet\"),\n",
        "        ]\n",
        "          }\n",
        "result = final_chain.invoke(inputs)\n",
        "result"
      ],
      "metadata": {
        "colab": {
          "base_uri": "https://localhost:8080/"
        },
        "id": "GTdSG3zlzo0V",
        "outputId": "1da8f5e4-a435-4216-c0bd-715b61d8f419"
      },
      "execution_count": null,
      "outputs": [
        {
          "output_type": "execute_result",
          "data": {
            "text/plain": [
              "{'answer': \" C'était difficile parce que le hérisson se déroulait et s'éloignait, que les soldats doublés se levaient et s'éloignaient vers d'autres parties du terrain, et qu'il y avait généralement une crête ou un sillon sur le chemin où elle voulait envoyer le hérisson.\",\n",
              " 'docs': [Document(page_content=\"It sounded an excellent plan, no doubt, and very neatly and\\nsimply arranged; the only difficulty was, that she had not the\\nsmallest idea how to set about it; and while she was peering\\nabout anxiously among the trees, a little sharp bark just over\\nher head made her look up in a great hurry.\\n\\n  An enormous puppy was looking down at her with large round\\neyes, and feebly stretching out one paw, trying to touch her.\\n`Poor little thing!' said Alice, in a coaxing tone, and she tried\\nhard to whistle to it; but she was terribly frightened all the\\ntime at the thought that it might be hungry, in which case it\\nwould be very likely to eat her up in spite of all her coaxing.\", metadata={'source': 'alice_in_wonderland.txt', 'author': 'Lewis', 'book': 'Alice'}),\n",
              "  Document(page_content='The chief difficulty Alice found at first was in managing her\\nflamingo:  she succeeded in getting its body tucked away,\\ncomfortably enough, under her arm, with its legs hanging down,\\nbut generally, just as she had got its neck nicely straightened\\nout, and was going to give the hedgehog a blow with its head, it\\nWOULD twist itself round and look up in her face, with such a\\npuzzled expression that she could not help bursting out laughing:\\nand when she had got its head down, and was going to begin again,\\nit was very provoking to find that the hedgehog had unrolled\\nitself, and was in the act of crawling away:  besides all this,\\nthere was generally a ridge or furrow in the way wherever she\\nwanted to send the hedgehog to, and, as the doubled-up soldiers\\nwere always getting up and walking off to other parts of the\\nground, Alice soon came to the conclusion that it was a very\\ndifficult game indeed.', metadata={'source': 'alice_in_wonderland.txt', 'author': 'Lewis', 'book': 'Alice'}),\n",
              "  Document(page_content=\"`In my youth,' Father William replied to his son,\\n      `I feared it might injure the brain;\\n    But, now that I'm perfectly sure I have none,\\n      Why, I do it again and again.'\\n\\n    `You are old,' said the youth, `as I mentioned before,\\n      And have grown most uncommonly fat;\\n    Yet you turned a back-somersault in at the door--\\n      Pray, what is the reason of that?'\\n\\n    `In my youth,' said the sage, as he shook his grey locks,\\n      `I kept all my limbs very supple\\n    By the use of this ointment--one shilling the box--\\n      Allow me to sell you a couple?'\\n\\n    `You are old,' said the youth, `and your jaws are too weak\\n      For anything tougher than suet;\\n    Yet you finished the goose, with the bones and the beak--\\n      Pray how did you manage to do it?'\\n\\n    `In my youth,' said his father, `I took to the law,\\n      And argued each case with my wife;\\n    And the muscular strength, which it gave to my jaw,\\n      Has lasted the rest of my life.'\", metadata={'source': 'alice_in_wonderland.txt', 'author': 'Lewis', 'book': 'Alice'}),\n",
              "  Document(page_content='\"Most of us reckon he\\'s still out there somewhere but lost his powers.\\nToo weak to carry on. \\'Cause somethin\\' about you finished him, Harry.\\nThere was somethin\\' goin\\' on that night he hadn\\'t counted on -- I dunno\\nwhat it was, no one does -- but somethin\\' about you stumped him, all\\nright.\"\\n\\nHagrid looked at Harry with warmth and respect blazing in his eyes, but\\nHarry, instead of feeling pleased and proud, felt quite sure there had\\nbeen a horrible mistake. A wizard? Him? How could he possibly be? He\\'d\\nspent his life being clouted by Dudley, and bullied by Aunt Petunia and\\nUncle Vernon; if he was really a wizard, why hadn\\'t they been turned\\ninto warty toads every time they\\'d tried to lock him in his cupboard? If\\nhe\\'d once defeated the greatest sorcerer in the world, how come Dudley\\nhad always been able to kick him around like a football?\\n\\n\"Hagrid,\" he said quietly, \"I think you must have made a mistake. I\\ndon\\'t think I can be a wizard.\"\\n\\nTo his surprise, Hagrid chuckled.', metadata={'source': 'Sorcerer_stone.txt', 'author': 'Rowling', 'book': 'Stone'})]}"
            ]
          },
          "metadata": {},
          "execution_count": 66
        }
      ]
    },
    {
      "cell_type": "code",
      "source": [
        "from operator import itemgetter\n",
        "from langchain_core.runnables import RunnableLambda\n",
        "from langchain.memory import ConversationBufferMemory\n",
        "\n",
        "\n",
        "template = \"\"\"Answer the question based only on the following context:\n",
        "{context}\n",
        "Chat History:\n",
        "{chat_history}\n",
        "Question: {question}\n",
        "\"\"\"\n",
        "ANSWER_PROMPT = ChatPromptTemplate.from_template(template)\n",
        "\n",
        "\n",
        "# First we add a step to load memory\n",
        "# This adds a \"memory\" key to the input object\n",
        "loaded_memory = RunnablePassthrough.assign(\n",
        "    chat_history= itemgetter(\"chat_history\"),\n",
        "    question=itemgetter(\"question\")\n",
        ")\n",
        "# Now we calculate the standalone question\n",
        "\n",
        "# Now we retrieve the documents\n",
        "retrieved_documents = {\n",
        "    \"docs\": itemgetter(\"question\") | retriever,\n",
        "    \"question\": lambda x: x[\"question\"],\n",
        "    \"chat_history\": lambda x: get_buffer_string(x[\"chat_history\"]),\n",
        "}\n",
        "# Now we construct the inputs for the final prompt\n",
        "final_inputs = {\n",
        "    \"context\": lambda x: _combine_documents(x[\"docs\"]),\n",
        "    \"question\": itemgetter(\"question\"),\n",
        "    \"chat_history\" : itemgetter(\"chat_history\")\n",
        "}\n",
        "# And finally, we do the part that returns the answers\n",
        "answer = {\n",
        "    \"answer\": final_inputs | ANSWER_PROMPT | llm,\n",
        "    \"docs\": itemgetter(\"docs\"),\n",
        "}\n",
        "# And now we put it all together!\n",
        "final_chain = loaded_memory |  retrieved_documents | answer\n",
        "\n",
        "inputs = {\"question\": \"Can you describe him? Whom he usually interact with?\" ,\n",
        "          \"chat_history\" : [\n",
        "            HumanMessage(content=\"Who taught defence and seceret arts\"),\n",
        "            AIMessage(content=\"Quirrell\"),\n",
        "        ]\n",
        "          }\n",
        "result = final_chain.invoke(inputs)\n",
        "result"
      ],
      "metadata": {
        "colab": {
          "base_uri": "https://localhost:8080/"
        },
        "id": "EQYeuPFKtUAA",
        "outputId": "0bf71a63-6d87-49fe-e6b3-f1aeb0cca817"
      },
      "execution_count": null,
      "outputs": [
        {
          "output_type": "stream",
          "name": "stderr",
          "text": [
            "100%|██████████| 690/690 [00:00<00:00, 4022.80it/s]\n"
          ]
        },
        {
          "output_type": "execute_result",
          "data": {
            "text/plain": [
              "{'answer': ' Quirrell is a professor at Hogwarts School of Witchcraft and Wizardry. He is described as a nervous and stuttering man with a turban on his head. He is the professor of Defence Against the Dark Arts and is known for his fear of everything. He often interacts with Harry Potter, as he is one of his students.',\n",
              " 'docs': [Document(page_content='\"Shut up,\" said Ron again. He was almost as tall as the twins already\\nand his nose was still pink where his mother had rubbed it.\\n\\n\"Hey, Mom, guess what? Guess who we just met on the train?\"\\n\\nHarry leaned back quickly so they couldn\\'t see him looking.\\n\\n\"You know that black-haired boy who was near us in the station? Know who\\nhe is?\"\\n\\n\"Who?\"\\n\\n\"Harry Potter!\"\\n\\nHarry heard the little girl\\'s voice.\\n\\n\"Oh, Mom, can I go on the train and see him, Mom, eh please....\"\\n\\n\"You\\'ve already seen him, Ginny, and the poor boy isn\\'t something you\\ngoggle at in a zoo. Is he really, Fred? How do you know?\"\\n\\n\"Asked him. Saw his scar. It\\'s really there - like lightning.\"\\n\\n\"Poor dear - no wonder he was alone, I wondered. He was ever so polite\\nwhen he asked how to get onto the platform.\"\\n\\n\"Never mind that, do you think he remembers what You-Know-Who looks\\nlike?\"\\n\\nTheir mother suddenly became very stern.', metadata={'source': 'Sorcerer_stone.txt', 'author': 'Rowling', 'book': 'Stone'}),\n",
              "  Document(page_content='\"No, we\\'re in a hurry. Hagrid, I\\'ve got to ask you something. You know\\nthat night you won Norbert? What did the stranger you were playing cards\\nwith look like?\"\\n\\n\"Dunno,\" said Hagrid casually, \"he wouldn\\' take his cloak off.\"\\n\\nHe saw the three of them look stunned and raised his eyebrows.\\n\\n\"It\\'s not that unusual, yeh get a lot o\\' funny folk in the Hog\\'s Head --\\nthat\\'s the pub down in the village. Mighta bin a dragon dealer, mightn\\'\\nhe? I never saw his face, he kept his hood up.\"\\n\\nHarry sank down next to the bowl of peas. \"What did you talk to him\\nabout, Hagrid? Did you mention Hogwarts at all?\"', metadata={'source': 'Sorcerer_stone.txt', 'author': 'Rowling', 'book': 'Stone'}),\n",
              "  Document(page_content='He gasped. So did the people around him. About twenty ghosts had just\\nstreamed through the back wall. Pearly-white and slightly transparent,\\nthey glided across the room talking to one another and hardly glancing\\nat the first years. They seemed to be arguing. What looked like a fat\\nlittle monk was saying: \"Forgive and forget, I say, we ought to give him\\na second chance --\"\\n\\n\"My dear Friar, haven\\'t we given Peeves all the chances he deserves? He\\ngives us all a bad name and you know, he\\'s not really even a ghost -- I\\nsay, what are you all doing here?\"\\n\\nA ghost wearing a ruff and tights had suddenly noticed the first years.\\n\\nNobody answered.\\n\\n\"New students!\" said the Fat Friar, smiling around at them. \"About to be\\nSorted, I suppose?\"\\n\\nA few people nodded mutely.\\n\\n\"Hope to see you in Hufflepuff!\" said the Friar. \"My old house, you\\nknow.\"\\n\\n\"Move along now,\" said a sharp voice. \"The Sorting Ceremony\\'s about to\\nstart.\"', metadata={'source': 'Sorcerer_stone.txt', 'author': 'Rowling', 'book': 'Stone'}),\n",
              "  Document(page_content='\"Sorry,\" he grunted, as the tiny old man stumbled and almost fell. It\\nwas a few seconds before Mr. Dursley realized that the man was wearing a\\nviolet cloak. He didn\\'t seem at all upset at being almost knocked to the\\nground. On the contrary, his face split into a wide smile and he said in\\na squeaky voice that made passersby stare, \"Don\\'t be sorry, my dear sir,\\nfor nothing could upset me today! Rejoice, for You-Know-Who has gone at\\nlast! Even Muggles like yourself should be celebrating, this happy,\\nhappy day!\"\\n\\nAnd the old man hugged Mr. Dursley around the middle and walked off.\\n\\nMr. Dursley stood rooted to the spot. He had been hugged by a complete\\nstranger. He also thought he had been called a Muggle, whatever that\\nwas. He was rattled. He hurried to his car and set off for home, hoping\\nhe was imagining things, which he had never hoped before, because he\\ndidn\\'t approve of imagination.', metadata={'source': 'Sorcerer_stone.txt', 'author': 'Rowling', 'book': 'Stone'}),\n",
              "  Document(page_content='\"Mighta come up,\" said Hagrid, frowning as he tried to remember.\\n\"Yeah... he asked what I did, an\\' I told him I was gamekeeper here....\\nHe asked a bit about the sorta creatures I took after... so I told\\nhim... an\\' I said what I\\'d always really wanted was a dragon... an\\'\\nthen... I can\\' remember too well, \\'cause he kept buyin\\' me drinks....\\nLet\\'s see... yeah, then he said he had the dragon egg an\\' we could play\\ncards fer it if I wanted... but he had ter be sure I could handle it, he\\ndidn\\' want it ter go ter any old home.... So I told him, after Fluffy, a\\ndragon would be easy...\"\\n\\n\"And did he -- did he seem interested in Fluffy?\" Harry asked, try ing\\nto keep his voice calm.\\n\\n\"Well -- yeah -- how many three-headed dogs d\\'yeh meet, even around\\nHogwarts? So I told him, Fluffy\\'s a piece o\\' cake if yeh know how to\\ncalm him down, jus\\' play him a bit o\\' music an\\' he\\'ll go straight off\\nter sleep --\"\\n\\nHagrid suddenly looked horrified.', metadata={'source': 'Sorcerer_stone.txt', 'author': 'Rowling', 'book': 'Stone'}),\n",
              "  Document(page_content='They walked more slowly, ears straining for the faintest sound.\\nSuddenly, in a clearing ahead, something definitely moved.\\n\\n\"Who\\'s there?\" Hagrid called. \"Show yerself -- I\\'m armed!\"\\n\\nAnd into the clearing came -- was it a man, or a horse? To the waist, a\\nman, with red hair and beard, but below that was a horse\\'s gleaming\\nchestnut body with a long, reddish tail. Harry and Hermione\\'s jaws\\ndropped.\\n\\n\"Oh, it\\'s you, Ronan,\" said Hagrid in relief. \"How are yeh?\"\\n\\nHe walked forward and shook the centaur\\'s hand.\\n\\n\"Good evening to you, Hagrid,\" said Ronan. He had a deep, sorrowful\\nvoice. \"Were you going to shoot me?\"\\n\\n\"Can\\'t be too careful, Ronan,\" said Hagrid, patting his crossbow.\\n\"There\\'s summat bad loose in this forest. This is Harry Potter an\\'\\nHermione Granger, by the way. Students up at the school. An\\' this is\\nRonan, you two. He\\'s a centaur.))\\n\\n\"We\\'d noticed,\" said Hermione faintly.\\n\\n\"Good evening,\" said Ronan. \"Students, are you? And do you learn much,\\nup at the school?\"\\n\\n\"Erm --\"', metadata={'source': 'Sorcerer_stone.txt', 'author': 'Rowling', 'book': 'Stone'}),\n",
              "  Document(page_content='It was indeed as though ice was flooding his body. He put the bottle\\ndown and walked forward; he braced himself, saw the black flames licking\\nhis body, but couldn\\'t feel them -- for a moment he could see nothing\\nbut dark fire -- then he was on the other side, in the last chamber.\\n\\nThere was already someone there -- but it wasn\\'t Snape. It wasn\\'t even\\nVoldemort.\\n\\n\\nCHAPTER SEVENTEEN\\n\\nTHE MAN WITH TWO FACES\\n\\nIt was Quirrell.\\n\\n\"You!\" gasped Harry.\\n\\nQuirrell smiled. His face wasn\\'t twitching at all.\\n\\n\"Me,\" he said calmly. \"I wondered whether I\\'d be meeting you here,\\nPotter.\"\\n\\n\"But I thought -- Snape --\"\\n\\n\"Severus?\" Quirrell laughed, and it wasn\\'t his usual quivering treble,\\neither, but cold and sharp. \"Yes, Severus does seem the type, doesn\\'t\\nhe? So useful to have him swooping around like an overgrown bat. Next to\\nhim, who would suspect p-p-poor, st-stuttering P-Professor Quirrell?\"\\n\\nHarry couldn\\'t take it in. This couldn\\'t be true, it couldn\\'t.\\n\\n\"But Snape tried to kill me!\"', metadata={'source': 'Sorcerer_stone.txt', 'author': 'Rowling', 'book': 'Stone'}),\n",
              "  Document(page_content='\"I\\'d take you on anytime on my own,\" said Malfoy. \"Tonight, if you want.\\nWizard\\'s duel. Wands only -- no contact. What\\'s the matter? Never heard\\nof a wizard\\'s duel before, I suppose?\"\\n\\n\"Of course he has,\" said Ron, wheeling around. \"I\\'m his second, who\\'s\\nyours?\"\\n\\nMalfoy looked at Crabbe and Goyle, sizing them up.\\n\\n\"Crabbe,\" he said. \"Midnight all right? We\\'ll meet you in the trophy\\nroom; that\\'s always unlocked.\"\\n\\nWhen Malfoy had gone, Ron and Harry looked at each other. \"What is a\\nwizard\\'s duel?\" said Harry. \"And what do you mean, you\\'re my second?\"\\n\\n\"Well, a second\\'s there to take over if you die,\" said Ron casually,\\ngetting started at last on his cold pie. Catching the look on Harry\\'s\\nface, he added quickly, \"But people only die in proper duels, you know,\\nwith real wizards. The most you and Malfoy\\'ll be able to do is send\\nsparks at each other. Neither of you knows enough magic to do any real\\ndamage. I bet he expected you to refuse, anyway.\"', metadata={'source': 'Sorcerer_stone.txt', 'author': 'Rowling', 'book': 'Stone'}),\n",
              "  Document(page_content='\"You don\\'t mean -- you can\\'t mean the people who live here?\" cried\\nProfessor McGonagall, jumping to her feet and pointing at number four.\\n\"Dumbledore -- you can\\'t. I\\'ve been watching them all day. You couldn\\'t\\nfind two people who are less like us. And they\\'ve got this son -- I saw\\nhim kicking his mother all the way up the street, screaming for sweets.\\nHarry Potter come and live here!\"\\n\\n\"It\\'s the best place for him,\" said Dumbledore firmly. \"His aunt and\\nuncle will be able to explain everything to him when he\\'s older. I\\'ve\\nwritten them a letter.\"\\n\\n\"A letter?\" repeated Professor McGonagall faintly, sitting back down on\\nthe wall. \"Really, Dumbledore, you think you can explain all this in a\\nletter? These people will never understand him! He\\'ll be famous -- a\\nlegend -- I wouldn\\'t be surprised if today was known as Harry Potter day\\nin the future -- there will be books written about Harry -- every child\\nin our world will know his name!\"', metadata={'source': 'Sorcerer_stone.txt', 'author': 'Rowling', 'book': 'Stone'}),\n",
              "  Document(page_content='As he pulled into the driveway of number four, the first thing he saw --\\nand it didn\\'t improve his mood -- was the tabby cat he\\'d spotted that\\nmorning. It was now sitting on his garden wall. He was sure it was the\\nsame one; it had the same markings around its eyes.\\n\\n\"Shoo!\" said Mr. Dursley loudly. The cat didn\\'t move. It just gave him a\\nstern look. Was this normal cat behavior? Mr. Dursley wondered. Trying\\nto pull himself together, he let himself into the house. He was still\\ndetermined not to mention anything to his wife.\\n\\nMrs. Dursley had had a nice, normal day. She told him over dinner all\\nabout Mrs. Next Door\\'s problems with her daughter and how Dudley had\\nlearned a new word (\"Won\\'t!\"). Mr. Dursley tried to act normally. When\\nDudley had been put to bed, he went into the living room in time to\\ncatch the last report on the evening news:', metadata={'source': 'Sorcerer_stone.txt', 'author': 'Rowling', 'book': 'Stone'}),\n",
              "  Document(page_content='A breeze ruffled the neat hedges of Privet Drive, which lay silent and\\ntidy under the inky sky, the very last place you would expect\\nastonishing things to happen. Harry Potter rolled over inside his\\nblankets without waking up. One small hand closed on the letter beside\\nhim and he slept on, not knowing he was special, not knowing he was\\nfamous, not knowing he would be woken in a few hours\\' time by Mrs.\\nDursley\\'s scream as she opened the front door to put out the milk\\nbottles, nor that he would spend the next few weeks being prodded and\\npinched by his cousin Dudley... He couldn\\'t know that at this very\\nmoment, people meeting in secret all over the country were holding up\\ntheir glasses and saying in hushed voices: \"To Harry Potter -- the boy\\nwho lived!\"\\n\\n\\nCHAPTER TWO\\n\\nTHE VANISHING GLASS', metadata={'source': 'Sorcerer_stone.txt', 'author': 'Rowling', 'book': 'Stone'}),\n",
              "  Document(page_content='\"Tricky customer, eh? Not to worry, we\\'ll find the perfect match here\\nsomewhere -- I wonder, now - - yes, why not -- unusual combination --\\nholly and phoenix feather, eleven inches, nice and supple.\"\\n\\nHarry took the wand. He felt a sudden warmth in his fingers. He raised\\nthe wand above his head, brought it swishing down through the dusty air\\nand a stream of red and gold sparks shot from the end like a firework,\\nthrowing dancing spots of light on to the walls. Hagrid whooped and\\nclapped and Mr. Ollivander cried, \"Oh, bravo! Yes, indeed, oh, very\\ngood. Well, well, well... how curious... how very curious... \"\\n\\nHe put Harry\\'s wand back into its box and wrapped it in brown paper,\\nstill muttering, \"Curious... curious..\\n\\n\"Sorry,\" said Harry, \"but what\\'s curious?\"\\n\\nMr. Ollivander fixed Harry with his pale stare.', metadata={'source': 'Sorcerer_stone.txt', 'author': 'Rowling', 'book': 'Stone'}),\n",
              "  Document(page_content='\"Next to the tall kid with the red hair.\"\\n\\n\"Wearing the glasses?\"\\n\\n\"Did you see his face?\"\\n\\n\"Did you see his scar?\"\\n\\nWhispers followed Harry from the moment he left his dormitory the next\\nday. People lining up outside classrooms stood on tiptoe to get a look\\nat him, or doubled back to pass him in the corridors again, staring.\\nHarry wished they wouldn\\'t, because he was trying to concentrate on\\nfinding his way to classes.', metadata={'source': 'Sorcerer_stone.txt', 'author': 'Rowling', 'book': 'Stone'}),\n",
              "  Document(page_content='Professor McGonagall pointed them into a classroom that was empty except\\nfor Peeves, who was busy writing rude words on the blackboard.\\n\\n\"Out, Peeves!\" she barked. Peeves threw the chalk into a bin, which\\nclanged loudly, and he swooped out cursing. Professor McGonagall slammed\\nthe door behind him and turned to face the two boys.\\n\\n\"Potter, this is Oliver Wood. Wood -- I\\'ve found you a Seeker.\"\\n\\nWood\\'s expression changed from puzzlement to delight.\\n\\n\"Are you serious, Professor?\"\\n\\n\"Absolutely,\" said Professor McGonagall crisply. \"The boy\\'s a natural.\\nI\\'ve never seen anything like it. Was that your first time on a\\nbroomstick, Potter?\"\\n\\nHarry nodded silently. He didn\\'t have a clue what was going on, but he\\ndidn\\'t seem to be being expelled, and some of the feeling started coming\\nback to his legs.\\n\\n\"He caught that thing in his hand after a fifty-foot dive,\" Professor\\nMcGonagall told Wood. \"Didn\\'t even scratch himself. Charlie Weasley\\ncouldn\\'t have done it.\"', metadata={'source': 'Sorcerer_stone.txt', 'author': 'Rowling', 'book': 'Stone'}),\n",
              "  Document(page_content='\"Harry!\" Neville burst Out, the moment he saw the other two. \"I was\\ntrying to find you to warn you, I heard Malfoy saying he was going to\\ncatch you, he said you had a drag --\"\\n\\nHarry shook his head violently to shut Neville up, but Professor\\nMcGonagall had seen. She looked more likely to breathe fire than Norbert\\nas she towered over the three of them.\\n\\n\"I would never have believed it of any of you. Mr. Filch says you were\\nup in the astronomy tower. It\\'s one o\\'clock in the morning. Explain\\nyourselves.\"\\n\\nIt was the first time Hermione had ever failed to answer a teacher\\'s\\nquestion. She was staring at her slippers, as still as a statue.\\n\\n\"I think I\\'ve got a good idea of what\\'s been going on,\" said Professor\\nMcGonagall. \"It doesn\\'t take a genius to work it out. You fed Draco\\nMalfoy some cock-and-bull story about a dragon, trying to get him out of\\nbed and into trouble. I\\'ve already caught him. I suppose you think it\\'s\\nfunny that Longbottom here heard the story and believed it, too?\"', metadata={'source': 'Sorcerer_stone.txt', 'author': 'Rowling', 'book': 'Stone'}),\n",
              "  Document(page_content='\"But I heard you a few days ago, sobbing -- I thought Snape was\\nthreatening you....\"\\n\\nFor the first time, a spasm of fear flitted across Quirrell\\'s face.\\n\\n\"Sometimes,\" he said, \"I find it hard to follow my master\\'s instructions\\n-- he is a great wizard and I am weak --\"\\n\\n\"You mean he was there in the classroom with you?\" Harry gasped.\\n\\n\"He is with me wherever I go,\" said Quirrell quietly. \"I met him when I\\ntraveled around the world. A foolish young man I was then, full of\\nridiculous ideas about good and evil. Lord Voldemort showed me how wrong\\nI was. There is no good and evil, there is only power, and those too\\nweak to seek it.... Since then, I have served him faithfully, although I\\nhave let him down many times. He has had to be very hard on me.\"\\nQuirrell shivered suddenly. \"He does not forgive mistakes easily. When I\\nfailed to steal the stone from Gringotts, he was most displeased. He\\npunished me... decided he would have to keep a closer watch on me....\"', metadata={'source': 'Sorcerer_stone.txt', 'author': 'Rowling', 'book': 'Stone'}),\n",
              "  Document(page_content='\"It -- well -- it shows me my family --\"\\n\\n\"And it showed your friend Ron himself as head boy.\"\\n\\n\"How did you know --?\"\\n\\n\"I don\\'t need a cloak to become invisible,\" said Dumbledore gently.\\n\"Now, can you think what the Mirror of Erised shows us all?\"\\n\\nHarry shook his head.\\n\\n\"Let me explain. The happiest man on earth would be able to use the\\nMirror of Erised like a normal mirror, that is, he would look into it\\nand see himself exactly as he is. Does that help?\"\\n\\nHarry thought. Then he said slowly, \"It shows us what we want...\\nwhatever we want...\"', metadata={'source': 'Sorcerer_stone.txt', 'author': 'Rowling', 'book': 'Stone'}),\n",
              "  Document(page_content='\"I\\'ll never remember this,\" Ron burst out one afternoon, throwing down\\nhis quill and looking longingly out of the library window. It was the\\nfirst really fine day they\\'d had in months. The sky was a clear,\\nforget-me-not blue, and there was a feeling in the air of summer coming.\\n\\nHarry, who was looking up \"Dittany\" in One Thousand Magical Herbs and\\nFungi, didn\\'t look up until he heard Ron say, \"Hagrid! What are you\\ndoing in the library?\"\\n\\nHagrid shuffled into view, hiding something behind his back. He looked\\nvery out of place in his moleskin overcoat.\\n\\n\"Jus\\' lookin\\',\" he said, in a shifty voice that got their interest at\\nonce. \"An\\' what\\'re you lot up ter?\" He looked suddenly suspicious. \"Yer\\nnot still lookin\\' fer Nicolas Flamel, are yeh?\" \"Oh, we found out who he\\nis ages ago,\" said Ron impressively. \"And we know what that dog\\'s\\nguarding, it\\'s a Sorcerer\\'s St --\"', metadata={'source': 'Sorcerer_stone.txt', 'author': 'Rowling', 'book': 'Stone'}),\n",
              "  Document(page_content='\"A bit,\" said Hermione timidly.\\n\\n\"A bit. Well, that\\'s something.\" Ronan sighed. He flung back his head\\nand stared at the sky. \"Mars is bright tonight.\"\\n\\n\"Yeah,\" said Hagrid, glancing up, too. \"Listen, I\\'m glad we\\'ve run inter\\nyeh, Ronan, \\'cause there\\'s a unicorn bin hurt -- you seen anythin\\'?\"\\n\\nRonan didn\\'t answer immediately. He stared unblinkingly upward, then\\nsighed again.\\n\\n\"Always the innocent are the first victims,\" he said. \"So it has been\\nfor ages past, so it is now.\"\\n\\n\"Yeah,\" said Hagrid, \"but have yeh seen anythin\\', Ronan? Anythin\\'\\nunusual?\"\\n\\n\"Mars is bright tonight,\" Ronan repeated, while Hagrid watched him\\nimpatiently. \"Unusually bright.\"\\n\\n\"Yeah, but I was meanin\\' anythin\\' unusual a bit nearer home, said\\nHagrid. \"So yeh haven\\'t noticed anythin\\' strange?\"\\n\\nYet again, Ronan took a while to answer. At last, he said, \"The forest\\nhides many secrets.\"', metadata={'source': 'Sorcerer_stone.txt', 'author': 'Rowling', 'book': 'Stone'}),\n",
              "  Document(page_content='Harry looked up at the giant. He meant to say thank you, but the words\\ngot lost on the way to his mouth, and what he said instead was, \"Who are\\nyou?\"\\n\\nThe giant chuckled.\\n\\n\"True, I haven\\'t introduced meself. Rubeus Hagrid, Keeper of Keys and\\nGrounds at Hogwarts.\"\\n\\nHe held out an enormous hand and shook Harry\\'s whole arm.\\n\\n\"What about that tea then, eh?\" he said, rubbing his hands together.\\n\"I\\'d not say no ter summat stronger if yeh\\'ve got it, mind.\"\\n\\nHis eyes fell on the empty grate with the shriveled chip bags in it and\\nhe snorted. He bent down over the fireplace; they couldn\\'t see what he\\nwas doing but when he drew back a second later, there was a roaring fire\\nthere. It filled the whole damp hut with flickering light and Harry felt\\nthe warmth wash over him as though he\\'d sunk into a hot bath.', metadata={'source': 'Sorcerer_stone.txt', 'author': 'Rowling', 'book': 'Stone'})]}"
            ]
          },
          "metadata": {},
          "execution_count": 103
        }
      ]
    },
    {
      "cell_type": "code",
      "source": [
        "! pip install -q fastembed faiss-cpu unstructured"
      ],
      "metadata": {
        "colab": {
          "base_uri": "https://localhost:8080/"
        },
        "id": "JZ5aCZTERHfc",
        "outputId": "08682522-7edb-4ba8-a0bb-29cedf1b0c2c"
      },
      "execution_count": 27,
      "outputs": [
        {
          "output_type": "stream",
          "name": "stdout",
          "text": [
            "Requirement already satisfied: fastembed in /usr/local/lib/python3.10/dist-packages (0.1.3)\n",
            "Requirement already satisfied: faiss-cpu in /usr/local/lib/python3.10/dist-packages (1.7.4)\n",
            "Collecting unstructured\n",
            "  Downloading unstructured-0.11.6-py3-none-any.whl (1.8 MB)\n",
            "\u001b[2K     \u001b[90m━━━━━━━━━━━━━━━━━━━━━━━━━━━━━━━━━━━━━━━━\u001b[0m \u001b[32m1.8/1.8 MB\u001b[0m \u001b[31m11.6 MB/s\u001b[0m eta \u001b[36m0:00:00\u001b[0m\n",
            "\u001b[?25hRequirement already satisfied: huggingface-hub==0.19.4 in /usr/local/lib/python3.10/dist-packages (from fastembed) (0.19.4)\n",
            "Requirement already satisfied: onnx<2.0,>=1.11 in /usr/local/lib/python3.10/dist-packages (from fastembed) (1.15.0)\n",
            "Requirement already satisfied: onnxruntime<2.0,>=1.15 in /usr/local/lib/python3.10/dist-packages (from fastembed) (1.16.3)\n",
            "Requirement already satisfied: requests<3.0,>=2.31 in /usr/local/lib/python3.10/dist-packages (from fastembed) (2.31.0)\n",
            "Requirement already satisfied: tokenizers<0.16.0,>=0.15.0 in /usr/local/lib/python3.10/dist-packages (from fastembed) (0.15.0)\n",
            "Requirement already satisfied: tqdm<5.0,>=4.65 in /usr/local/lib/python3.10/dist-packages (from fastembed) (4.66.1)\n",
            "Requirement already satisfied: filelock in /usr/local/lib/python3.10/dist-packages (from huggingface-hub==0.19.4->fastembed) (3.13.1)\n",
            "Requirement already satisfied: fsspec>=2023.5.0 in /usr/local/lib/python3.10/dist-packages (from huggingface-hub==0.19.4->fastembed) (2023.6.0)\n",
            "Requirement already satisfied: pyyaml>=5.1 in /usr/local/lib/python3.10/dist-packages (from huggingface-hub==0.19.4->fastembed) (6.0.1)\n",
            "Requirement already satisfied: typing-extensions>=3.7.4.3 in /usr/local/lib/python3.10/dist-packages (from huggingface-hub==0.19.4->fastembed) (4.5.0)\n",
            "Requirement already satisfied: packaging>=20.9 in /usr/local/lib/python3.10/dist-packages (from huggingface-hub==0.19.4->fastembed) (23.2)\n",
            "Requirement already satisfied: chardet in /usr/local/lib/python3.10/dist-packages (from unstructured) (5.2.0)\n",
            "Collecting filetype (from unstructured)\n",
            "  Downloading filetype-1.2.0-py2.py3-none-any.whl (19 kB)\n",
            "Collecting python-magic (from unstructured)\n",
            "  Downloading python_magic-0.4.27-py2.py3-none-any.whl (13 kB)\n",
            "Requirement already satisfied: lxml in /usr/local/lib/python3.10/dist-packages (from unstructured) (4.9.4)\n",
            "Requirement already satisfied: nltk in /usr/local/lib/python3.10/dist-packages (from unstructured) (3.8.1)\n",
            "Requirement already satisfied: tabulate in /usr/local/lib/python3.10/dist-packages (from unstructured) (0.9.0)\n",
            "Requirement already satisfied: beautifulsoup4 in /usr/local/lib/python3.10/dist-packages (from unstructured) (4.11.2)\n",
            "Collecting emoji (from unstructured)\n",
            "  Downloading emoji-2.9.0-py2.py3-none-any.whl (397 kB)\n",
            "\u001b[2K     \u001b[90m━━━━━━━━━━━━━━━━━━━━━━━━━━━━━━━━━━━━━━━━\u001b[0m \u001b[32m397.5/397.5 kB\u001b[0m \u001b[31m27.6 MB/s\u001b[0m eta \u001b[36m0:00:00\u001b[0m\n",
            "\u001b[?25hRequirement already satisfied: dataclasses-json in /usr/local/lib/python3.10/dist-packages (from unstructured) (0.6.3)\n",
            "Collecting python-iso639 (from unstructured)\n",
            "  Downloading python_iso639-2023.12.11-py3-none-any.whl (275 kB)\n",
            "\u001b[2K     \u001b[90m━━━━━━━━━━━━━━━━━━━━━━━━━━━━━━━━━━━━━━━━\u001b[0m \u001b[32m275.1/275.1 kB\u001b[0m \u001b[31m22.3 MB/s\u001b[0m eta \u001b[36m0:00:00\u001b[0m\n",
            "\u001b[?25hCollecting langdetect (from unstructured)\n",
            "  Downloading langdetect-1.0.9.tar.gz (981 kB)\n",
            "\u001b[2K     \u001b[90m━━━━━━━━━━━━━━━━━━━━━━━━━━━━━━━━━━━━━━━━\u001b[0m \u001b[32m981.5/981.5 kB\u001b[0m \u001b[31m42.7 MB/s\u001b[0m eta \u001b[36m0:00:00\u001b[0m\n",
            "\u001b[?25h  Preparing metadata (setup.py) ... \u001b[?25l\u001b[?25hdone\n",
            "Requirement already satisfied: numpy in /usr/local/lib/python3.10/dist-packages (from unstructured) (1.23.5)\n",
            "Collecting rapidfuzz (from unstructured)\n",
            "  Downloading rapidfuzz-3.6.1-cp310-cp310-manylinux_2_17_x86_64.manylinux2014_x86_64.whl (3.4 MB)\n",
            "\u001b[2K     \u001b[90m━━━━━━━━━━━━━━━━━━━━━━━━━━━━━━━━━━━━━━━━\u001b[0m \u001b[32m3.4/3.4 MB\u001b[0m \u001b[31m56.7 MB/s\u001b[0m eta \u001b[36m0:00:00\u001b[0m\n",
            "\u001b[?25hCollecting backoff (from unstructured)\n",
            "  Downloading backoff-2.2.1-py3-none-any.whl (15 kB)\n",
            "Collecting unstructured-client (from unstructured)\n",
            "  Downloading unstructured_client-0.15.1-py3-none-any.whl (20 kB)\n",
            "Requirement already satisfied: wrapt in /usr/local/lib/python3.10/dist-packages (from unstructured) (1.14.1)\n",
            "Requirement already satisfied: protobuf>=3.20.2 in /usr/local/lib/python3.10/dist-packages (from onnx<2.0,>=1.11->fastembed) (3.20.3)\n",
            "Requirement already satisfied: coloredlogs in /usr/local/lib/python3.10/dist-packages (from onnxruntime<2.0,>=1.15->fastembed) (15.0.1)\n",
            "Requirement already satisfied: flatbuffers in /usr/local/lib/python3.10/dist-packages (from onnxruntime<2.0,>=1.15->fastembed) (23.5.26)\n",
            "Requirement already satisfied: sympy in /usr/local/lib/python3.10/dist-packages (from onnxruntime<2.0,>=1.15->fastembed) (1.12)\n",
            "Requirement already satisfied: charset-normalizer<4,>=2 in /usr/local/lib/python3.10/dist-packages (from requests<3.0,>=2.31->fastembed) (3.3.2)\n",
            "Requirement already satisfied: idna<4,>=2.5 in /usr/local/lib/python3.10/dist-packages (from requests<3.0,>=2.31->fastembed) (3.6)\n",
            "Requirement already satisfied: urllib3<3,>=1.21.1 in /usr/local/lib/python3.10/dist-packages (from requests<3.0,>=2.31->fastembed) (2.0.7)\n",
            "Requirement already satisfied: certifi>=2017.4.17 in /usr/local/lib/python3.10/dist-packages (from requests<3.0,>=2.31->fastembed) (2023.11.17)\n",
            "Requirement already satisfied: soupsieve>1.2 in /usr/local/lib/python3.10/dist-packages (from beautifulsoup4->unstructured) (2.5)\n",
            "Requirement already satisfied: marshmallow<4.0.0,>=3.18.0 in /usr/local/lib/python3.10/dist-packages (from dataclasses-json->unstructured) (3.20.1)\n",
            "Requirement already satisfied: typing-inspect<1,>=0.4.0 in /usr/local/lib/python3.10/dist-packages (from dataclasses-json->unstructured) (0.9.0)\n",
            "Requirement already satisfied: six in /usr/local/lib/python3.10/dist-packages (from langdetect->unstructured) (1.16.0)\n",
            "Requirement already satisfied: click in /usr/local/lib/python3.10/dist-packages (from nltk->unstructured) (8.1.7)\n",
            "Requirement already satisfied: joblib in /usr/local/lib/python3.10/dist-packages (from nltk->unstructured) (1.3.2)\n",
            "Requirement already satisfied: regex>=2021.8.3 in /usr/local/lib/python3.10/dist-packages (from nltk->unstructured) (2023.6.3)\n",
            "Collecting jsonpath-python>=1.0.6 (from unstructured-client->unstructured)\n",
            "  Downloading jsonpath_python-1.0.6-py3-none-any.whl (7.6 kB)\n",
            "Requirement already satisfied: mypy-extensions>=1.0.0 in /usr/local/lib/python3.10/dist-packages (from unstructured-client->unstructured) (1.0.0)\n",
            "Requirement already satisfied: python-dateutil>=2.8.2 in /usr/local/lib/python3.10/dist-packages (from unstructured-client->unstructured) (2.8.2)\n",
            "Collecting typing-extensions>=3.7.4.3 (from huggingface-hub==0.19.4->fastembed)\n",
            "  Downloading typing_extensions-4.9.0-py3-none-any.whl (32 kB)\n",
            "Requirement already satisfied: humanfriendly>=9.1 in /usr/local/lib/python3.10/dist-packages (from coloredlogs->onnxruntime<2.0,>=1.15->fastembed) (10.0)\n",
            "Requirement already satisfied: mpmath>=0.19 in /usr/local/lib/python3.10/dist-packages (from sympy->onnxruntime<2.0,>=1.15->fastembed) (1.3.0)\n",
            "Building wheels for collected packages: langdetect\n",
            "  Building wheel for langdetect (setup.py) ... \u001b[?25l\u001b[?25hdone\n",
            "  Created wheel for langdetect: filename=langdetect-1.0.9-py3-none-any.whl size=993225 sha256=51573b1dad3f87c52cd2373183ecc0fc9cd134cfbb50e68b3c0b893b073da58a\n",
            "  Stored in directory: /root/.cache/pip/wheels/95/03/7d/59ea870c70ce4e5a370638b5462a7711ab78fba2f655d05106\n",
            "Successfully built langdetect\n",
            "Installing collected packages: filetype, typing-extensions, rapidfuzz, python-magic, python-iso639, langdetect, jsonpath-python, emoji, backoff, unstructured-client, unstructured\n",
            "  Attempting uninstall: typing-extensions\n",
            "    Found existing installation: typing_extensions 4.5.0\n",
            "    Uninstalling typing_extensions-4.5.0:\n",
            "      Successfully uninstalled typing_extensions-4.5.0\n",
            "\u001b[31mERROR: pip's dependency resolver does not currently take into account all the packages that are installed. This behaviour is the source of the following dependency conflicts.\n",
            "tensorflow-probability 0.22.0 requires typing-extensions<4.6.0, but you have typing-extensions 4.9.0 which is incompatible.\u001b[0m\u001b[31m\n",
            "\u001b[0mSuccessfully installed backoff-2.2.1 emoji-2.9.0 filetype-1.2.0 jsonpath-python-1.0.6 langdetect-1.0.9 python-iso639-2023.12.11 python-magic-0.4.27 rapidfuzz-3.6.1 typing-extensions-4.9.0 unstructured-0.11.6 unstructured-client-0.15.1\n"
          ]
        }
      ]
    },
    {
      "cell_type": "code",
      "source": [
        "from langchain.embeddings.fastembed import FastEmbedEmbeddings\n",
        "from langchain.vectorstores import FAISS\n",
        "embed_model = FastEmbedEmbeddings()\n",
        "\n",
        "db = FAISS.from_documents(alice_docs,embed_model)"
      ],
      "metadata": {
        "id": "91qIAoQHRY2H"
      },
      "execution_count": 12,
      "outputs": []
    },
    {
      "cell_type": "code",
      "source": [
        "docs = db.similarity_search(\"alice queen play game\")\n",
        "print(docs[0].page_content)"
      ],
      "metadata": {
        "colab": {
          "base_uri": "https://localhost:8080/"
        },
        "id": "1FIK9RR9Tgvh",
        "outputId": "6a270a7a-7168-451b-cba4-ca96448229f2"
      },
      "execution_count": 13,
      "outputs": [
        {
          "output_type": "stream",
          "name": "stdout",
          "text": [
            "Alice thought she might as well go back, and see how the game\n",
            "was going on, as she heard the Queen's voice in the distance,\n",
            "screaming with passion.  She had already heard her sentence three\n",
            "of the players to be executed for having missed their turns, and\n",
            "she did not like the look of things at all, as the game was in\n",
            "such confusion that she never knew whether it was her turn or\n",
            "not.  So she went in search of her hedgehog.\n",
            "\n",
            "  The hedgehog was engaged in a fight with another hedgehog,\n",
            "which seemed to Alice an excellent opportunity for croqueting one\n",
            "of them with the other:  the only difficulty was, that her\n",
            "flamingo was gone across to the other side of the garden, where\n",
            "Alice could see it trying in a helpless sort of way to fly up\n",
            "into a tree.\n"
          ]
        }
      ]
    },
    {
      "cell_type": "code",
      "source": [
        "retriever=db.as_retriever()"
      ],
      "metadata": {
        "id": "7sZ2IK2UT91g"
      },
      "execution_count": 14,
      "outputs": []
    },
    {
      "cell_type": "code",
      "source": [
        "from operator import itemgetter\n",
        "from langchain_core.runnables import RunnableLambda\n",
        "from langchain.memory import ConversationBufferMemory\n",
        "\n",
        "from langchain.prompts import ChatPromptTemplate\n",
        "template = \"\"\"Answer the question based only on the following context:\n",
        "{context}\n",
        "\n",
        "Question: {question}\n",
        "\n",
        "Answer in the following language: {language}\n",
        "\"\"\"\n",
        "prompt = ChatPromptTemplate.from_template(template)\n",
        "\n",
        "chain = (\n",
        "    {\n",
        "        \"context\": itemgetter(\"question\") | retriever,\n",
        "        \"question\": itemgetter(\"question\"),\n",
        "        \"language\": itemgetter(\"language\"),\n",
        "    }\n",
        "    | prompt\n",
        "    | llm\n",
        "    | StrOutputParser()\n",
        ")\n",
        "\n",
        "chain.invoke({\"question\": \"what game were alice and queen playing and why was it difficult\", \"language\": \"english\"})"
      ],
      "metadata": {
        "colab": {
          "base_uri": "https://localhost:8080/",
          "height": 107
        },
        "id": "7ZYPU3ehUkY4",
        "outputId": "b3e9e0cd-d5ff-4ea3-d87a-2faeab0a8be2"
      },
      "execution_count": 21,
      "outputs": [
        {
          "output_type": "execute_result",
          "data": {
            "text/plain": [
              "' Alice and the Queen were playing a game of croquet. The game was difficult because the croquet ground was full of ridges and furrows, the balls were live hedgehogs, the mallets were live flamingos, and the soldiers had to double themselves up and stand on their hands and feet to make the arches.'"
            ],
            "application/vnd.google.colaboratory.intrinsic+json": {
              "type": "string"
            }
          },
          "metadata": {},
          "execution_count": 21
        }
      ]
    },
    {
      "cell_type": "code",
      "source": [
        "#https://python.langchain.com/docs/integrations/vectorstores/faiss\n",
        "db.save_local(\"faiss_index\")\n",
        "\n",
        "new_db = FAISS.load_local(\"faiss_index\", embed_model)"
      ],
      "metadata": {
        "id": "viivf4jXVyPw"
      },
      "execution_count": 23,
      "outputs": []
    },
    {
      "cell_type": "code",
      "source": [
        "!ls -alrth"
      ],
      "metadata": {
        "colab": {
          "base_uri": "https://localhost:8080/"
        },
        "id": "_uv1zVr0VHQ6",
        "outputId": "6ec57aa0-97cd-49c8-dc43-f7efa64a99f9"
      },
      "execution_count": 22,
      "outputs": [
        {
          "output_type": "stream",
          "name": "stdout",
          "text": [
            "total 612K\n",
            "drwxr-xr-x 1 root root 4.0K Dec 28 14:19 sample_data\n",
            "drwxr-xr-x 1 root root 4.0K Jan  2 22:13 ..\n",
            "-rw-r--r-- 1 root root 146K Jan  2 22:29 alice_in_wonderland.txt\n",
            "-rw-r--r-- 1 root root 430K Jan  2 22:29 Sorcerer_stone.txt\n",
            "drwxr-xr-x 7 root root 4.0K Jan  2 22:30 deeplk\n",
            "drwxr-xr-x 1 root root 4.0K Jan  2 22:34 .config\n",
            "drwx------ 5 root root 4.0K Jan  2 22:34 drive\n",
            "drwxr-xr-x 1 root root 4.0K Jan  2 22:34 .\n"
          ]
        }
      ]
    },
    {
      "cell_type": "code",
      "source": [
        "import requests\n",
        "\n",
        "headers = {\n",
        "    'Referer': 'https://www.google.com/',\n",
        "    'Upgrade-Insecure-Requests': '1',\n",
        "    'User-Agent': 'Mozilla/5.0 (Macintosh; Intel Mac OS X 10_15_7) AppleWebKit/537.36 (KHTML, like Gecko) Chrome/114.0.0.0 Safari/537.36',\n",
        "    'sec-ch-ua': '\"Not.A/Brand\";v=\"8\", \"Chromium\";v=\"114\", \"Google Chrome\";v=\"114\"',\n",
        "    'sec-ch-ua-mobile': '?0',\n",
        "    'sec-ch-ua-platform': '\"macOS\"',\n",
        "}\n",
        "\n",
        "response = requests.get('https://www.cardinalhealth.com/sitemap.xml', headers=headers)\n",
        "\n",
        "from bs4 import BeautifulSoup\n",
        "\n",
        "#response = get_response('https://www.cardinalhealth.com/sitemap.xml')\n",
        "soup = BeautifulSoup(response.content, \"xml\")\n",
        "urls = [element.text for element in soup.find_all(\"loc\")]\n",
        "\n",
        "sites = urls\n",
        "sites_filtered = [url for url in sites if '/reference/' not in url and '?hl' not in url]\n",
        "sites_filtered[:5]"
      ],
      "metadata": {
        "colab": {
          "base_uri": "https://localhost:8080/"
        },
        "id": "aLroYPeaWSm6",
        "outputId": "3ac38625-8a8b-4730-83a2-e57fdfcf329e"
      },
      "execution_count": 24,
      "outputs": [
        {
          "output_type": "execute_result",
          "data": {
            "text/plain": [
              "['https://www.cardinalhealth.com',\n",
              " 'https://www.cardinalhealth.com/en.html',\n",
              " 'https://www.cardinalhealth.com/en/about-us.html',\n",
              " 'https://www.cardinalhealth.com/en/about-us/who-we-are.html',\n",
              " 'https://www.cardinalhealth.com/en/about-us/who-we-are/fuse-by-cardinal-health.html']"
            ]
          },
          "metadata": {},
          "execution_count": 24
        }
      ]
    },
    {
      "cell_type": "code",
      "source": [
        "diversitysites = [url for url in sites if 'diversity' in url]\n",
        "len(diversitysites),diversitysites"
      ],
      "metadata": {
        "colab": {
          "base_uri": "https://localhost:8080/"
        },
        "id": "7hxm0nztWZWX",
        "outputId": "20efb9f1-13f4-4276-8556-21775839cdde"
      },
      "execution_count": 25,
      "outputs": [
        {
          "output_type": "execute_result",
          "data": {
            "text/plain": [
              "(16,\n",
              " ['https://www.cardinalhealth.com/en/about-us/who-we-are/supplier-diversity.html',\n",
              "  'https://www.cardinalhealth.com/en/about-us/who-we-are/supplier-diversity/customers.html',\n",
              "  'https://www.cardinalhealth.com/en/about-us/who-we-are/supplier-diversity/suppliers.html',\n",
              "  'https://www.cardinalhealth.com/en/about-us/our-people/diversity-and-inclusion.html',\n",
              "  'https://www.cardinalhealth.com/en/about-us/our-people/diversity-and-inclusion/diversity-inclusion-steering-council.html',\n",
              "  'https://www.cardinalhealth.com/en/about-us/our-people/diversity-and-inclusion/african-american-and-black-racial-equity-cabinet.html',\n",
              "  'https://www.cardinalhealth.com/en/about-us/our-people/diversity-and-inclusion/employee-resource-groups.html',\n",
              "  'https://www.cardinalhealth.com/en/about-us/our-people/diversity-and-inclusion/driving-innovation-through-dei.html',\n",
              "  'https://www.cardinalhealth.com/en/about-us/our-people/diversity-and-inclusion/dei-by-the-numbers.html',\n",
              "  'https://www.cardinalhealth.com/en/about-us/our-people/diversity-and-inclusion/pay-equity.html',\n",
              "  'https://www.cardinalhealth.com/en/about-us/our-people/diversity-and-inclusion/differentiated-development-increasing-awareness-access-and-advancement.html',\n",
              "  'https://www.cardinalhealth.com/en/about-us/our-people/diversity-and-inclusion/focusing-on-mental-health.html',\n",
              "  'https://www.cardinalhealth.com/en/about-us/our-people/diversity-and-inclusion/generation-next-deandi-leaders.html',\n",
              "  'https://www.cardinalhealth.com/en/careers/culture/diversity.html',\n",
              "  'https://www.cardinalhealth.com/en/services/manufacturer/biopharmaceutical/real-world-evidence-and-insights/resources-for-rwe/best-practices/how-rwe-can-help-fill-diversity-gaps.html',\n",
              "  'https://www.cardinalhealth.com/en/services/manufacturer/biopharmaceutical/real-world-evidence-and-insights/resources-for-rwe/best-practices/rwe-and-the-lack-of-diversity-in-clinical-trials.html'])"
            ]
          },
          "metadata": {},
          "execution_count": 25
        }
      ]
    },
    {
      "cell_type": "code",
      "source": [
        "\n",
        "from langchain.document_loaders import UnstructuredURLLoader\n",
        "from langchain.text_splitter import RecursiveCharacterTextSplitter\n",
        "#loader = UnstructuredURLLoader(urls=sites_filtered)\n",
        "#documents = loader.load()\n",
        "\n",
        "loader = UnstructuredURLLoader(urls=diversitysites[:15], continue_on_failure=False, headers=headers)\n",
        "documents = loader.load()\n",
        "\n",
        "\n",
        "#text_splitter = CharacterTextSplitter(chunk_size=1000, chunk_overlap=100)\n",
        "text_splitter = RecursiveCharacterTextSplitter(\n",
        "    # Set a really small chunk size, just to show.\n",
        "    chunk_size = 950,\n",
        "    chunk_overlap  = 90,\n",
        "    length_function = len,\n",
        ")\n",
        "\n",
        "documents = text_splitter.split_documents(documents)\n",
        "print(len(documents))"
      ],
      "metadata": {
        "colab": {
          "base_uri": "https://localhost:8080/"
        },
        "id": "YroLpBXxWhYr",
        "outputId": "44257bd1-73dc-49d8-91e5-54b91ada2adf"
      },
      "execution_count": 28,
      "outputs": [
        {
          "output_type": "stream",
          "name": "stderr",
          "text": [
            "[nltk_data] Downloading package punkt to /root/nltk_data...\n",
            "[nltk_data]   Unzipping tokenizers/punkt.zip.\n",
            "[nltk_data] Downloading package averaged_perceptron_tagger to\n",
            "[nltk_data]     /root/nltk_data...\n",
            "[nltk_data]   Unzipping taggers/averaged_perceptron_tagger.zip.\n"
          ]
        },
        {
          "output_type": "stream",
          "name": "stdout",
          "text": [
            "818\n"
          ]
        }
      ]
    },
    {
      "cell_type": "code",
      "source": [
        "vectorstore = FAISS.from_documents(documents, embed_model)"
      ],
      "metadata": {
        "id": "R09CNLMvW_iw"
      },
      "execution_count": 29,
      "outputs": []
    }
  ]
}
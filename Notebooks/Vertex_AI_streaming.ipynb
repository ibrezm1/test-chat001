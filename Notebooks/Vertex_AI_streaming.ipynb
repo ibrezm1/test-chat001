{
  "nbformat": 4,
  "nbformat_minor": 0,
  "metadata": {
    "colab": {
      "provenance": []
    },
    "kernelspec": {
      "name": "python3",
      "display_name": "Python 3"
    },
    "language_info": {
      "name": "python"
    }
  },
  "cells": [
    {
      "cell_type": "code",
      "execution_count": null,
      "metadata": {
        "id": "uJe5CbNMejAE"
      },
      "outputs": [],
      "source": [
        "# https://cloud.google.com/vertex-ai/docs/generative-ai/learn/streaming#code-chat_1"
      ]
    },
    {
      "cell_type": "code",
      "source": [
        "from google.colab import auth as google_auth\n",
        "google_auth.authenticate_user()"
      ],
      "metadata": {
        "id": "uNtOv-vLg1y-"
      },
      "execution_count": 1,
      "outputs": []
    },
    {
      "cell_type": "code",
      "source": [
        "!pip install -q google-cloud-aiplatform langchain"
      ],
      "metadata": {
        "colab": {
          "base_uri": "https://localhost:8080/"
        },
        "id": "9O6KzawohCLU",
        "outputId": "e7e42d39-6118-41e2-d1f0-e399e8d6acda"
      },
      "execution_count": 12,
      "outputs": [
        {
          "output_type": "stream",
          "name": "stdout",
          "text": [
            "\u001b[2K     \u001b[90m━━━━━━━━━━━━━━━━━━━━━━━━━━━━━━━━━━━━━━━━\u001b[0m \u001b[32m2.0/2.0 MB\u001b[0m \u001b[31m7.8 MB/s\u001b[0m eta \u001b[36m0:00:00\u001b[0m\n",
            "\u001b[2K     \u001b[90m━━━━━━━━━━━━━━━━━━━━━━━━━━━━━━━━━━━━━━━━\u001b[0m \u001b[32m177.8/177.8 kB\u001b[0m \u001b[31m17.7 MB/s\u001b[0m eta \u001b[36m0:00:00\u001b[0m\n",
            "\u001b[2K     \u001b[90m━━━━━━━━━━━━━━━━━━━━━━━━━━━━━━━━━━━━━━━━\u001b[0m \u001b[32m48.2/48.2 kB\u001b[0m \u001b[31m5.7 MB/s\u001b[0m eta \u001b[36m0:00:00\u001b[0m\n",
            "\u001b[2K     \u001b[90m━━━━━━━━━━━━━━━━━━━━━━━━━━━━━━━━━━━━━━━━\u001b[0m \u001b[32m49.4/49.4 kB\u001b[0m \u001b[31m6.6 MB/s\u001b[0m eta \u001b[36m0:00:00\u001b[0m\n",
            "\u001b[?25h"
          ]
        }
      ]
    },
    {
      "cell_type": "code",
      "source": [
        "import vertexai\n",
        "from vertexai.language_models import ChatModel, InputOutputTextPair"
      ],
      "metadata": {
        "id": "At0FLThthFho"
      },
      "execution_count": 3,
      "outputs": []
    },
    {
      "cell_type": "code",
      "source": [
        "vertexai.init(project=\"zeta-yen-319702\", location=\"us-central1\")\n",
        "parameters = {\n",
        "    \"candidate_count\": 1,\n",
        "    \"max_output_tokens\": 1024,\n",
        "    \"temperature\": 0.2,\n",
        "    \"top_p\": 0.8,\n",
        "    \"top_k\": 40\n",
        "}"
      ],
      "metadata": {
        "id": "zOvjsgcFg-Rd"
      },
      "execution_count": 7,
      "outputs": []
    },
    {
      "cell_type": "code",
      "source": [
        "\n",
        "\n",
        "def streaming_prediction(\n",
        "    project_id: str,\n",
        "    location: str,\n",
        ") -> str:\n",
        "    \"\"\"Streaming Chat Example with a Large Language Model\"\"\"\n",
        "\n",
        "    vertexai.init(project=project_id, location=location)\n",
        "\n",
        "    chat_model = ChatModel.from_pretrained(\"chat-bison\")\n",
        "\n",
        "    parameters = {\n",
        "        \"temperature\": 0.8,  # Temperature controls the degree of randomness in token selection.\n",
        "        \"max_output_tokens\": 256,  # Token limit determines the maximum amount of text output.\n",
        "        \"top_p\": 0.95,  # Tokens are selected from most probable to least until the sum of their probabilities equals the top_p value.\n",
        "        \"top_k\": 40,  # A top_k of 1 means the selected token is the most probable among all tokens.\n",
        "    }\n",
        "\n",
        "    chat = chat_model.start_chat(\n",
        "        context=\"My name is Miles. You are an astronomer, knowledgeable about the solar system.\",\n",
        "        examples=[\n",
        "            InputOutputTextPair(\n",
        "                input_text=\"How many moons does Mars have?\",\n",
        "                output_text=\"The planet Mars has two moons, Phobos and Deimos.\",\n",
        "            ),\n",
        "        ],\n",
        "    )\n",
        "\n",
        "    responses = chat.send_message_streaming(\n",
        "        message=\"How many planets are there in the solar system?\", **parameters)\n",
        "    for response in responses:\n",
        "        print(response.text)\n"
      ],
      "metadata": {
        "id": "o8m6dDtlej1a"
      },
      "execution_count": 10,
      "outputs": []
    },
    {
      "cell_type": "code",
      "source": [
        "streaming_prediction(project_id=\"zeta-yen-319702\", location=\"us-central1\")"
      ],
      "metadata": {
        "colab": {
          "base_uri": "https://localhost:8080/"
        },
        "id": "eZDlLwxfhakE",
        "outputId": "495f1672-e0e7-47f8-eacd-1012ccaf7c5c"
      },
      "execution_count": 11,
      "outputs": [
        {
          "output_type": "stream",
          "name": "stdout",
          "text": [
            " There are eight planets that orbit our sun: Mercury, Venus, Earth, Mars, Jupiter, Saturn\n",
            ", Uranus, and Neptune.\n",
            "\n"
          ]
        }
      ]
    },
    {
      "cell_type": "code",
      "source": [
        "from langchain.chat_models import ChatAnthropic"
      ],
      "metadata": {
        "id": "gKv92vbPiV8H"
      },
      "execution_count": null,
      "outputs": []
    }
  ]
}
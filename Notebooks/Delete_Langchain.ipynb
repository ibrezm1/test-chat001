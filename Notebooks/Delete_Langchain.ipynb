{
  "nbformat": 4,
  "nbformat_minor": 0,
  "metadata": {
    "colab": {
      "provenance": []
    },
    "kernelspec": {
      "name": "python3",
      "display_name": "Python 3"
    },
    "language_info": {
      "name": "python"
    }
  },
  "cells": [
    {
      "cell_type": "code",
      "execution_count": 2,
      "metadata": {
        "colab": {
          "base_uri": "https://localhost:8080/"
        },
        "id": "FZ9VdGd4iycD",
        "outputId": "b4f39677-54da-4a38-eedd-aab46f060f7a"
      },
      "outputs": [
        {
          "output_type": "stream",
          "name": "stdout",
          "text": [
            "\u001b[?25l     \u001b[90m━━━━━━━━━━━━━━━━━━━━━━━━━━━━━━━━━━━━━━━━\u001b[0m \u001b[32m0.0/580.3 kB\u001b[0m \u001b[31m?\u001b[0m eta \u001b[36m-:--:--\u001b[0m\r\u001b[2K     \u001b[91m━━━━━━━━━\u001b[0m\u001b[91m╸\u001b[0m\u001b[90m━━━━━━━━━━━━━━━━━━━━━━━━━━━━━━\u001b[0m \u001b[32m143.4/580.3 kB\u001b[0m \u001b[31m4.1 MB/s\u001b[0m eta \u001b[36m0:00:01\u001b[0m\r\u001b[2K     \u001b[90m━━━━━━━━━━━━━━━━━━━━━━━━━━━━━━━━━━━━━━━━\u001b[0m \u001b[32m580.3/580.3 kB\u001b[0m \u001b[31m8.9 MB/s\u001b[0m eta \u001b[36m0:00:00\u001b[0m\n",
            "\u001b[?25h  Installing build dependencies ... \u001b[?25l\u001b[?25hdone\n",
            "  Getting requirements to build wheel ... \u001b[?25l\u001b[?25hdone\n",
            "  Preparing metadata (pyproject.toml) ... \u001b[?25l\u001b[?25hdone\n",
            "\u001b[2K     \u001b[90m━━━━━━━━━━━━━━━━━━━━━━━━━━━━━━━━━━━━━━━━\u001b[0m \u001b[32m1.9/1.9 MB\u001b[0m \u001b[31m53.3 MB/s\u001b[0m eta \u001b[36m0:00:00\u001b[0m\n",
            "\u001b[2K     \u001b[90m━━━━━━━━━━━━━━━━━━━━━━━━━━━━━━━━━━━━━━━━\u001b[0m \u001b[32m139.3/139.3 kB\u001b[0m \u001b[31m13.8 MB/s\u001b[0m eta \u001b[36m0:00:00\u001b[0m\n",
            "\u001b[2K     \u001b[90m━━━━━━━━━━━━━━━━━━━━━━━━━━━━━━━━━━━━━━━━\u001b[0m \u001b[32m82.1/82.1 kB\u001b[0m \u001b[31m9.2 MB/s\u001b[0m eta \u001b[36m0:00:00\u001b[0m\n",
            "\u001b[2K     \u001b[90m━━━━━━━━━━━━━━━━━━━━━━━━━━━━━━━━━━━━━━━━\u001b[0m \u001b[32m1.3/1.3 MB\u001b[0m \u001b[31m64.3 MB/s\u001b[0m eta \u001b[36m0:00:00\u001b[0m\n",
            "\u001b[2K     \u001b[90m━━━━━━━━━━━━━━━━━━━━━━━━━━━━━━━━━━━━━━━━\u001b[0m \u001b[32m14.7/14.7 MB\u001b[0m \u001b[31m81.5 MB/s\u001b[0m eta \u001b[36m0:00:00\u001b[0m\n",
            "\u001b[2K     \u001b[90m━━━━━━━━━━━━━━━━━━━━━━━━━━━━━━━━━━━━━━━━\u001b[0m \u001b[32m115.3/115.3 kB\u001b[0m \u001b[31m13.4 MB/s\u001b[0m eta \u001b[36m0:00:00\u001b[0m\n",
            "\u001b[2K     \u001b[90m━━━━━━━━━━━━━━━━━━━━━━━━━━━━━━━━━━━━━━━━\u001b[0m \u001b[32m177.6/177.6 kB\u001b[0m \u001b[31m16.5 MB/s\u001b[0m eta \u001b[36m0:00:00\u001b[0m\n",
            "\u001b[2K     \u001b[90m━━━━━━━━━━━━━━━━━━━━━━━━━━━━━━━━━━━━━━━━\u001b[0m \u001b[32m48.1/48.1 kB\u001b[0m \u001b[31m5.1 MB/s\u001b[0m eta \u001b[36m0:00:00\u001b[0m\n",
            "\u001b[2K     \u001b[90m━━━━━━━━━━━━━━━━━━━━━━━━━━━━━━━━━━━━━━━━\u001b[0m \u001b[32m73.5/73.5 kB\u001b[0m \u001b[31m7.8 MB/s\u001b[0m eta \u001b[36m0:00:00\u001b[0m\n",
            "\u001b[2K     \u001b[90m━━━━━━━━━━━━━━━━━━━━━━━━━━━━━━━━━━━━━━━━\u001b[0m \u001b[32m11.3/11.3 MB\u001b[0m \u001b[31m28.5 MB/s\u001b[0m eta \u001b[36m0:00:00\u001b[0m\n",
            "\u001b[2K     \u001b[90m━━━━━━━━━━━━━━━━━━━━━━━━━━━━━━━━━━━━━━━━\u001b[0m \u001b[32m135.8/135.8 kB\u001b[0m \u001b[31m8.0 MB/s\u001b[0m eta \u001b[36m0:00:00\u001b[0m\n",
            "\u001b[2K     \u001b[90m━━━━━━━━━━━━━━━━━━━━━━━━━━━━━━━━━━━━━━━━\u001b[0m \u001b[32m79.8/79.8 kB\u001b[0m \u001b[31m4.7 MB/s\u001b[0m eta \u001b[36m0:00:00\u001b[0m\n",
            "\u001b[2K     \u001b[90m━━━━━━━━━━━━━━━━━━━━━━━━━━━━━━━━━━━━━━━━\u001b[0m \u001b[32m49.4/49.4 kB\u001b[0m \u001b[31m4.9 MB/s\u001b[0m eta \u001b[36m0:00:00\u001b[0m\n",
            "\u001b[2K     \u001b[90m━━━━━━━━━━━━━━━━━━━━━━━━━━━━━━━━━━━━━━━━\u001b[0m \u001b[32m56.8/56.8 kB\u001b[0m \u001b[31m5.3 MB/s\u001b[0m eta \u001b[36m0:00:00\u001b[0m\n",
            "\u001b[2K     \u001b[90m━━━━━━━━━━━━━━━━━━━━━━━━━━━━━━━━━━━━━━━━\u001b[0m \u001b[32m134.8/134.8 kB\u001b[0m \u001b[31m12.7 MB/s\u001b[0m eta \u001b[36m0:00:00\u001b[0m\n",
            "\u001b[?25h  Building wheel for deeplake (pyproject.toml) ... \u001b[?25l\u001b[?25hdone\n",
            "\u001b[2K     \u001b[90m━━━━━━━━━━━━━━━━━━━━━━━━━━━━━━━━━━━━━━━━\u001b[0m \u001b[32m5.2/5.2 MB\u001b[0m \u001b[31m12.8 MB/s\u001b[0m eta \u001b[36m0:00:00\u001b[0m\n",
            "\u001b[2K     \u001b[90m━━━━━━━━━━━━━━━━━━━━━━━━━━━━━━━━━━━━━━━━\u001b[0m \u001b[32m475.2/475.2 MB\u001b[0m \u001b[31m3.1 MB/s\u001b[0m eta \u001b[36m0:00:00\u001b[0m\n",
            "\u001b[2K     \u001b[90m━━━━━━━━━━━━━━━━━━━━━━━━━━━━━━━━━━━━━━━━\u001b[0m \u001b[32m5.5/5.5 MB\u001b[0m \u001b[31m57.0 MB/s\u001b[0m eta \u001b[36m0:00:00\u001b[0m\n",
            "\u001b[2K     \u001b[90m━━━━━━━━━━━━━━━━━━━━━━━━━━━━━━━━━━━━━━━━\u001b[0m \u001b[32m442.0/442.0 kB\u001b[0m \u001b[31m25.9 MB/s\u001b[0m eta \u001b[36m0:00:00\u001b[0m\n",
            "\u001b[2K     \u001b[90m━━━━━━━━━━━━━━━━━━━━━━━━━━━━━━━━━━━━━━━━\u001b[0m \u001b[32m1.7/1.7 MB\u001b[0m \u001b[31m79.0 MB/s\u001b[0m eta \u001b[36m0:00:00\u001b[0m\n",
            "\u001b[?25h"
          ]
        }
      ],
      "source": [
        "! pip install -q deeplake langchain\n",
        "! pip install -q tensorflow_text\n",
        "!pip install -q google-cloud-aiplatform"
      ]
    },
    {
      "cell_type": "code",
      "source": [
        "!wget 'https://gist.githubusercontent.com/phillipj/4944029/raw/75ba2243dd5ec2875f629bf5d79f6c1e4b5a8b46/alice_in_wonderland.txt'  -O alice_in_wonderland.txt\n",
        "!wget \"https://raw.githubusercontent.com/amephraim/nlp/master/texts/J.%20K.%20Rowling%20-%20Harry%20Potter%201%20-%20Sorcerer's%20Stone.txt\" -O Sorcerer_stone.txt"
      ],
      "metadata": {
        "colab": {
          "base_uri": "https://localhost:8080/"
        },
        "id": "FW4OOKegQ2vJ",
        "outputId": "5a701ab1-8367-491d-e374-7b9ffb97daf6"
      },
      "execution_count": 7,
      "outputs": [
        {
          "output_type": "stream",
          "name": "stdout",
          "text": [
            "--2023-12-02 04:23:32--  https://gist.githubusercontent.com/phillipj/4944029/raw/75ba2243dd5ec2875f629bf5d79f6c1e4b5a8b46/alice_in_wonderland.txt\n",
            "Resolving gist.githubusercontent.com (gist.githubusercontent.com)... 185.199.108.133, 185.199.109.133, 185.199.110.133, ...\n",
            "Connecting to gist.githubusercontent.com (gist.githubusercontent.com)|185.199.108.133|:443... connected.\n",
            "HTTP request sent, awaiting response... 200 OK\n",
            "Length: 148574 (145K) [text/plain]\n",
            "Saving to: ‘alice_in_wonderland.txt’\n",
            "\n",
            "\ralice_in_wonderland   0%[                    ]       0  --.-KB/s               \ralice_in_wonderland 100%[===================>] 145.09K  --.-KB/s    in 0.04s   \n",
            "\n",
            "2023-12-02 04:23:32 (3.80 MB/s) - ‘alice_in_wonderland.txt’ saved [148574/148574]\n",
            "\n",
            "--2023-12-02 04:23:32--  https://raw.githubusercontent.com/amephraim/nlp/master/texts/J.%20K.%20Rowling%20-%20Harry%20Potter%201%20-%20Sorcerer's%20Stone.txt\n",
            "Resolving raw.githubusercontent.com (raw.githubusercontent.com)... 185.199.108.133, 185.199.109.133, 185.199.110.133, ...\n",
            "Connecting to raw.githubusercontent.com (raw.githubusercontent.com)|185.199.108.133|:443... connected.\n",
            "HTTP request sent, awaiting response... 200 OK\n",
            "Length: 439742 (429K) [text/plain]\n",
            "Saving to: ‘Sorcerer_stone.txt’\n",
            "\n",
            "Sorcerer_stone.txt  100%[===================>] 429.44K  --.-KB/s    in 0.05s   \n",
            "\n",
            "2023-12-02 04:23:32 (7.76 MB/s) - ‘Sorcerer_stone.txt’ saved [439742/439742]\n",
            "\n"
          ]
        }
      ]
    },
    {
      "cell_type": "code",
      "source": [
        "from langchain.embeddings import TensorflowHubEmbeddings\n",
        "from langchain.vectorstores import DeepLake\n",
        "url = \"https://tfhub.dev/google/universal-sentence-encoder-multilingual/3\"\n",
        "embed_model = TensorflowHubEmbeddings(model_url=url)\n",
        "\n",
        "db = DeepLake(dataset_path='./vectordbs/deeplake/deeplake_default', \\\n",
        "                       embedding=embed_model)"
      ],
      "metadata": {
        "colab": {
          "base_uri": "https://localhost:8080/"
        },
        "id": "ADfa71U6O6e3",
        "outputId": "5a07cc13-6de8-47a6-86e0-54a80f1ef49a"
      },
      "execution_count": 4,
      "outputs": [
        {
          "output_type": "stream",
          "name": "stderr",
          "text": [
            "\r\r\r\r"
          ]
        }
      ]
    },
    {
      "cell_type": "code",
      "source": [
        "def load_doc(filename,metatag):\n",
        "  from langchain.document_loaders import TextLoader\n",
        "  from langchain.text_splitter import CharacterTextSplitter\n",
        "\n",
        "  loader = TextLoader(filename)\n",
        "  documents = loader.load()\n",
        "  text_splitter = CharacterTextSplitter(chunk_size=1000, chunk_overlap=0)\n",
        "  docs = text_splitter.split_documents(documents)\n",
        "  for d in docs:\n",
        "    for key, value in metatag.items():\n",
        "      d.metadata[key] = value\n",
        "  return docs\n"
      ],
      "metadata": {
        "id": "UHwBUOoMQhwv"
      },
      "execution_count": 8,
      "outputs": []
    },
    {
      "cell_type": "code",
      "source": [
        "alice_docs = load_doc('alice_in_wonderland.txt' ,{\"author\": \"Lewis\", \"book\": \"Alice\"})\n",
        "stone_docs = load_doc('Sorcerer_stone.txt' ,{\"author\": \"Rowling\", \"book\": \"Stone\"})"
      ],
      "metadata": {
        "colab": {
          "base_uri": "https://localhost:8080/"
        },
        "id": "TcN_P9U4wPa5",
        "outputId": "fe9b4c23-1c7d-4464-b074-1a4daeb28282"
      },
      "execution_count": 9,
      "outputs": [
        {
          "output_type": "stream",
          "name": "stderr",
          "text": [
            "WARNING:langchain.text_splitter:Created a chunk of size 1216, which is longer than the specified 1000\n",
            "WARNING:langchain.text_splitter:Created a chunk of size 1071, which is longer than the specified 1000\n"
          ]
        }
      ]
    },
    {
      "cell_type": "code",
      "source": [
        "lista_docs = db.add_documents(alice_docs)\n",
        "lists_docs = db.add_documents(stone_docs)"
      ],
      "metadata": {
        "colab": {
          "base_uri": "https://localhost:8080/"
        },
        "id": "5OKJsdBcRFw2",
        "outputId": "2b0ffc35-13ee-46d1-f77c-8a7b226d0cef"
      },
      "execution_count": 10,
      "outputs": [
        {
          "output_type": "stream",
          "name": "stderr",
          "text": [
            "Creating 178 embeddings in 1 batches of size 178:: 100%|██████████| 1/1 [00:09<00:00,  9.26s/it]\n"
          ]
        },
        {
          "output_type": "stream",
          "name": "stdout",
          "text": [
            "Dataset(path='./vectordbs/deeplake/deeplake_default', tensors=['text', 'metadata', 'embedding', 'id'])\n",
            "\n",
            "  tensor      htype      shape      dtype  compression\n",
            "  -------    -------    -------    -------  ------- \n",
            "   text       text      (178, 1)     str     None   \n",
            " metadata     json      (178, 1)     str     None   \n",
            " embedding  embedding  (178, 512)  float32   None   \n",
            "    id        text      (178, 1)     str     None   \n"
          ]
        },
        {
          "output_type": "stream",
          "name": "stderr",
          "text": [
            "Creating 512 embeddings in 2 batches of size 500:: 100%|██████████| 2/2 [00:18<00:00,  9.17s/it]"
          ]
        },
        {
          "output_type": "stream",
          "name": "stdout",
          "text": [
            "Dataset(path='./vectordbs/deeplake/deeplake_default', tensors=['text', 'metadata', 'embedding', 'id'])\n",
            "\n",
            "  tensor      htype      shape      dtype  compression\n",
            "  -------    -------    -------    -------  ------- \n",
            "   text       text      (690, 1)     str     None   \n",
            " metadata     json      (690, 1)     str     None   \n",
            " embedding  embedding  (690, 512)  float32   None   \n",
            "    id        text      (690, 1)     str     None   \n"
          ]
        },
        {
          "output_type": "stream",
          "name": "stderr",
          "text": [
            "\n"
          ]
        }
      ]
    },
    {
      "cell_type": "code",
      "source": [
        "query = \"which game did alice and queen play\"\n",
        "docs = db.similarity_search(query)\n",
        "print(docs[0].page_content)"
      ],
      "metadata": {
        "colab": {
          "base_uri": "https://localhost:8080/"
        },
        "id": "kMAg-7hSRkJ_",
        "outputId": "14f97928-e884-43bc-8d47-5bf874127a56"
      },
      "execution_count": 11,
      "outputs": [
        {
          "output_type": "stream",
          "name": "stdout",
          "text": [
            "Alice thought she might as well go back, and see how the game\n",
            "was going on, as she heard the Queen's voice in the distance,\n",
            "screaming with passion.  She had already heard her sentence three\n",
            "of the players to be executed for having missed their turns, and\n",
            "she did not like the look of things at all, as the game was in\n",
            "such confusion that she never knew whether it was her turn or\n",
            "not.  So she went in search of her hedgehog.\n",
            "\n",
            "  The hedgehog was engaged in a fight with another hedgehog,\n",
            "which seemed to Alice an excellent opportunity for croqueting one\n",
            "of them with the other:  the only difficulty was, that her\n",
            "flamingo was gone across to the other side of the garden, where\n",
            "Alice could see it trying in a helpless sort of way to fly up\n",
            "into a tree.\n"
          ]
        }
      ]
    },
    {
      "cell_type": "code",
      "source": [
        "db.similarity_search(\n",
        "    \"What color was the Sorcerer stone?\",\n",
        "    filter={\"metadata\": {\"author\": \"Rowling\"}},\n",
        ")"
      ],
      "metadata": {
        "colab": {
          "base_uri": "https://localhost:8080/"
        },
        "id": "VN7xIUYi0CoW",
        "outputId": "82e4055d-0afd-4077-d20b-535f10c89164"
      },
      "execution_count": 15,
      "outputs": [
        {
          "output_type": "stream",
          "name": "stderr",
          "text": [
            "100%|██████████| 690/690 [00:00<00:00, 2482.93it/s]\n"
          ]
        },
        {
          "output_type": "execute_result",
          "data": {
            "text/plain": [
              "[Document(page_content='She pushed the book toward them, and Harry and Ron read: The ancient\\nstudy of alchemy is concerned with making the Sorcerer\\'s Stone, a\\nlegendary substance with astonishing powers. The stone will transform\\nany metal into pure gold. It also produces the Elixir of Life, which\\nwill make the drinker immortal.\\n\\nThere have been many reports of the Sorcerer\\'s Stone over the centuries,\\nbut the only Stone currently in existence belongs to Mr. Nicolas Flamel,\\nthe noted alchemist and opera lover. Mr. Flamel, who celebrated his six\\nhundred and sixty-fifth birthday last year, enjoys a quiet life in Devon\\nwith his wife, Perenelle (six hundred and fifty-eight).\\n\\n\"See?\" said Hermione, when Harry and Ron had finished. \"The dog must be\\nguarding Flamel\\'s Sorcerer\\'s Stone! I bet he asked Dumbledore to keep it\\nsafe for him, because they\\'re friends and he knew someone was after it,\\nthat\\'s why he wanted the Stone moved out of Gringotts!\"', metadata={'source': 'Sorcerer_stone.txt', 'author': 'Rowling', 'book': 'Stone'}),\n",
              " Document(page_content=\"They had indeed been searching books for Flamel's name ever since Hagrid\\nhad let it slip, because how else were they going to find out what Snape\\nwas trying to steal? The trouble was, it was very hard to know where to\\nbegin, not knowing what Flamel might have done to get himself into a\\nbook. He wasn't in Great Wizards of the Twentieth Century, or Notable\\nMagical Names of Our Time; he was missing, too, from Important Modern\\nMagical Discoveries, and A Study of Recent Developments in Wizardry. And\\nthen, of course, there was the sheer size of the library; tens of\\nthousands of books; thousands of shelves; hundreds of narrow rows.\", metadata={'source': 'Sorcerer_stone.txt', 'author': 'Rowling', 'book': 'Stone'}),\n",
              " Document(page_content='\"So what is Quidditch?\"\\n\\n\"It\\'s our sport. Wizard sport. It\\'s like -- like soccer in the Muggle\\nworld -- everyone follows Quidditch -- played up in the air on\\nbroomsticks and there\\'s four balls -- sorta hard ter explain the rules.\"\\n\"And what are Slytherin and Hufflepuff?\"\\n\\n\"School houses. There\\'s four. Everyone says Hufflepuff are a lot o\\'\\nduffers, but --\"\\n\\n\"I bet I\\'m in Hufflepuff\" said Harry gloomily.\\n\\n\"Better Hufflepuff than Slytherin,\" said Hagrid darkly. \"There\\'s not a\\nsingle witch or wizard who went bad who wasn\\'t in Slytherin.\\nYou-Know-Who was one.\"\\n\\n\"Vol-, sorry - You-Know-Who was at Hogwarts?\"\\n\\n\"Years an\\' years ago,\" said Hagrid.', metadata={'source': 'Sorcerer_stone.txt', 'author': 'Rowling', 'book': 'Stone'}),\n",
              " Document(page_content='\"Sit down,\" he snapped at Hermione. \"For your information, Potter,\\nasphodel and wormwood make a sleeping potion so powerful it is known as\\nthe Draught of Living Death. A bezoar is a stone taken from the stomach\\nof a goat and it will save you from most poisons. As for monkshood and\\nwolfsbane, they are the same plant, which also goes by the name of\\naconite. Well? Why aren\\'t you all copying that down?\"\\n\\nThere was a sudden rummaging for quills and parchment. Over the noise,\\nSnape said, \"And a point will be taken from Gryffindor House for your\\ncheek, Potter.\"', metadata={'source': 'Sorcerer_stone.txt', 'author': 'Rowling', 'book': 'Stone'})]"
            ]
          },
          "metadata": {},
          "execution_count": 15
        }
      ]
    },
    {
      "cell_type": "code",
      "source": [
        "%%writefile random01.txt\n",
        "In a parallel dimension, gravity works in reverse, causing people to fall upward and land on clouds, where they have cloud picnics.\"\n",
        "\n",
        "Scientists recently discovered a new species of talking trees that communicate in poetry and hold annual literature festivals in enchanted forests.\"\n",
        "\n",
        "On a hidden island in the Pacific, Blue dolphins have developed a sophisticated form of underwater stand-up comedy, complete with dolphin laughter clubs.\"\n",
        "\n",
        "In an imaginary desert, there's a mirage that actually materializes as a 24/7 dessert buffet, offering an infinite supply of calorie-free, delicious treats.\"\n",
        "\n",
        "Archaeologists unearthed ancient laptops from a lost civilization, suggesting that they were far more technologically advanced than we are today, complete with prehistoric social media networks.\""
      ],
      "metadata": {
        "colab": {
          "base_uri": "https://localhost:8080/"
        },
        "id": "Fr-wN9au2tU1",
        "outputId": "5e94935a-362b-4279-de47-10d4ed7f0c8b"
      },
      "execution_count": 16,
      "outputs": [
        {
          "output_type": "stream",
          "name": "stdout",
          "text": [
            "Writing random01.txt\n"
          ]
        }
      ]
    },
    {
      "cell_type": "code",
      "source": [
        "db.add_documents(load_doc('random01.txt' ,{\"author\": \"Random\", \"book\": \"Jobby\"}))\n",
        "db.similarity_search(\n",
        "    \"What color was the dolphins\",\n",
        "    filter={\"metadata\": {\"author\": \"Random\"}},\n",
        ")\n",
        "\n"
      ],
      "metadata": {
        "colab": {
          "base_uri": "https://localhost:8080/"
        },
        "id": "84INXpux1D90",
        "outputId": "9102d1b7-c9b9-42ec-f28c-ad914e9f1da0"
      },
      "execution_count": 17,
      "outputs": [
        {
          "output_type": "stream",
          "name": "stderr",
          "text": [
            "Creating 1 embeddings in 1 batches of size 1:: 100%|██████████| 1/1 [00:00<00:00, 13.81it/s]\n"
          ]
        },
        {
          "output_type": "stream",
          "name": "stdout",
          "text": [
            "Dataset(path='./vectordbs/deeplake/deeplake_default', tensors=['text', 'metadata', 'embedding', 'id'])\n",
            "\n",
            "  tensor      htype      shape      dtype  compression\n",
            "  -------    -------    -------    -------  ------- \n",
            "   text       text      (691, 1)     str     None   \n",
            " metadata     json      (691, 1)     str     None   \n",
            " embedding  embedding  (691, 512)  float32   None   \n",
            "    id        text      (691, 1)     str     None   \n"
          ]
        },
        {
          "output_type": "stream",
          "name": "stderr",
          "text": [
            "100%|██████████| 691/691 [00:00<00:00, 2660.54it/s]\n"
          ]
        },
        {
          "output_type": "execute_result",
          "data": {
            "text/plain": [
              "[Document(page_content='In a parallel dimension, gravity works in reverse, causing people to fall upward and land on clouds, where they have cloud picnics.\"\\n\\nScientists recently discovered a new species of talking trees that communicate in poetry and hold annual literature festivals in enchanted forests.\"\\n\\nOn a hidden island in the Pacific, Blue dolphins have developed a sophisticated form of underwater stand-up comedy, complete with dolphin laughter clubs.\"\\n\\nIn an imaginary desert, there\\'s a mirage that actually materializes as a 24/7 dessert buffet, offering an infinite supply of calorie-free, delicious treats.\"\\n\\nArchaeologists unearthed ancient laptops from a lost civilization, suggesting that they were far more technologically advanced than we are today, complete with prehistoric social media networks.\"', metadata={'source': 'random01.txt', 'author': 'Random', 'book': 'Jobby'})]"
            ]
          },
          "metadata": {},
          "execution_count": 17
        }
      ]
    },
    {
      "cell_type": "code",
      "source": [
        "%%writefile random01.txt\n",
        "In a parallel dimension, gravity works in reverse, causing people to fall upward and land on clouds, where they have cloud picnics.\"\n",
        "\n",
        "Scientists recently discovered a new species of walking trees that communicate in poetry and hold annual literature festivals in enchanted forests.\"\n",
        "\n",
        "On a hidden island in the Pacific, Pink dolphins have developed a sophisticated form of underwater stand-up comedy, complete with dolphin laughter clubs.\"\n",
        "\n",
        "In an imaginary desert, there's a mirage that actually materializes as a 24/7 dessert buffet, offering an infinite supply of calorie-free, delicious treats.\"\n",
        "\n",
        "Archaeologists unearthed ancient laptops from a lost civilization, suggesting that they were far more technologically advanced than we are today, complete with prehistoric social media networks.\""
      ],
      "metadata": {
        "colab": {
          "base_uri": "https://localhost:8080/"
        },
        "id": "CJSb_pDD3qJU",
        "outputId": "5e6f2c00-ede5-4b25-876c-4f92842559ba"
      },
      "execution_count": 18,
      "outputs": [
        {
          "output_type": "stream",
          "name": "stdout",
          "text": [
            "Overwriting random01.txt\n"
          ]
        }
      ]
    },
    {
      "cell_type": "code",
      "source": [
        "db.delete(\n",
        "    filter={'metadata': {'author': 'Random'}}\n",
        ")"
      ],
      "metadata": {
        "colab": {
          "base_uri": "https://localhost:8080/"
        },
        "id": "5biYblM33bau",
        "outputId": "7f4c4b3d-b964-483e-f086-cf6f1a3d3ac2"
      },
      "execution_count": 19,
      "outputs": [
        {
          "output_type": "stream",
          "name": "stderr",
          "text": [
            "100%|██████████| 691/691 [00:01<00:00, 689.42it/s]\n"
          ]
        },
        {
          "output_type": "execute_result",
          "data": {
            "text/plain": [
              "True"
            ]
          },
          "metadata": {},
          "execution_count": 19
        }
      ]
    },
    {
      "cell_type": "code",
      "source": [
        "db.add_documents(load_doc('random01.txt' ,{\"author\": \"Random\", \"book\": \"Jobby\"}))\n",
        "db.similarity_search(\n",
        "    \"What color was the dolphins\",\n",
        "    filter={\"metadata\": {\"author\": \"Random\"}},\n",
        ")"
      ],
      "metadata": {
        "colab": {
          "base_uri": "https://localhost:8080/"
        },
        "id": "mLeRxhv93jvj",
        "outputId": "17341e11-2d3d-4610-bae1-5807de141dbb"
      },
      "execution_count": 20,
      "outputs": [
        {
          "output_type": "stream",
          "name": "stderr",
          "text": [
            "Creating 1 embeddings in 1 batches of size 1:: 100%|██████████| 1/1 [00:00<00:00, 17.08it/s]\n"
          ]
        },
        {
          "output_type": "stream",
          "name": "stdout",
          "text": [
            "Dataset(path='./vectordbs/deeplake/deeplake_default', tensors=['text', 'metadata', 'embedding', 'id'])\n",
            "\n",
            "  tensor      htype      shape      dtype  compression\n",
            "  -------    -------    -------    -------  ------- \n",
            "   text       text      (691, 1)     str     None   \n",
            " metadata     json      (691, 1)     str     None   \n",
            " embedding  embedding  (691, 512)  float32   None   \n",
            "    id        text      (691, 1)     str     None   \n"
          ]
        },
        {
          "output_type": "stream",
          "name": "stderr",
          "text": [
            "100%|██████████| 691/691 [00:00<00:00, 2622.25it/s]\n"
          ]
        },
        {
          "output_type": "execute_result",
          "data": {
            "text/plain": [
              "[Document(page_content='In a parallel dimension, gravity works in reverse, causing people to fall upward and land on clouds, where they have cloud picnics.\"\\n\\nScientists recently discovered a new species of walking trees that communicate in poetry and hold annual literature festivals in enchanted forests.\"\\n\\nOn a hidden island in the Pacific, Pink dolphins have developed a sophisticated form of underwater stand-up comedy, complete with dolphin laughter clubs.\"\\n\\nIn an imaginary desert, there\\'s a mirage that actually materializes as a 24/7 dessert buffet, offering an infinite supply of calorie-free, delicious treats.\"\\n\\nArchaeologists unearthed ancient laptops from a lost civilization, suggesting that they were far more technologically advanced than we are today, complete with prehistoric social media networks.\"', metadata={'source': 'random01.txt', 'author': 'Random', 'book': 'Jobby'})]"
            ]
          },
          "metadata": {},
          "execution_count": 20
        }
      ]
    },
    {
      "cell_type": "code",
      "source": [
        "from google.colab import auth\n",
        "\n",
        "auth.authenticate_user()"
      ],
      "metadata": {
        "id": "-_dgtgNRTi14"
      },
      "execution_count": 24,
      "outputs": []
    },
    {
      "cell_type": "code",
      "source": [
        "import vertexai\n",
        "from langchain.llms import VertexAI\n",
        "\n",
        "PROJECT_ID = 'zeta-yen-319702'\n",
        "REGION = 'us-central1'\n",
        "BUCKET = 'gs://zeta-yen-319702-temp/'\n",
        "\n",
        "#os.environ['GOOGLE_APPLICATION_CREDENTIALS'] =\n",
        "\n",
        "vertexai.init(\n",
        "    project=PROJECT_ID,\n",
        "    location=REGION,\n",
        "    staging_bucket=BUCKET\n",
        ")\n",
        "\n",
        "llm = VertexAI(\n",
        "    model_name=\"text-bison@001\",\n",
        "    max_output_tokens=256,\n",
        "    temperature=0.8,\n",
        "    top_p=0.8,\n",
        "    top_k=5,\n",
        "    verbose=True,\n",
        ")"
      ],
      "metadata": {
        "id": "9vQIOyrATmcL"
      },
      "execution_count": 26,
      "outputs": []
    },
    {
      "cell_type": "code",
      "source": [
        "from langchain.chains import ConversationalRetrievalChain\n",
        "qa = ConversationalRetrievalChain.from_llm(\n",
        "    llm=VertexAI(temperature=0.5,top_p=0.8,top_k=0.8),\n",
        "    retriever=db.as_retriever(k=1),\n",
        "    return_source_documents=True,verbose=False\n",
        ")\n"
      ],
      "metadata": {
        "id": "B558R3nBT_SE"
      },
      "execution_count": 28,
      "outputs": []
    },
    {
      "cell_type": "code",
      "source": [
        "query = \"Who was mad hatter?\"\n",
        "result = qa({\"question\": query,\"chat_history\" : \"\"})\n",
        "\n",
        "result"
      ],
      "metadata": {
        "colab": {
          "base_uri": "https://localhost:8080/"
        },
        "id": "utaTbPAnUC-a",
        "outputId": "8ce4fa1a-3525-4df0-a0ab-c460d5f78e6a"
      },
      "execution_count": 30,
      "outputs": [
        {
          "output_type": "stream",
          "name": "stdout",
          "text": [
            "\n",
            "\n",
            "\u001b[1m> Entering new StuffDocumentsChain chain...\u001b[0m\n",
            "\n",
            "\n",
            "\u001b[1m> Entering new LLMChain chain...\u001b[0m\n",
            "Prompt after formatting:\n",
            "\u001b[32;1m\u001b[1;3mUse the following pieces of context to answer the question at the end. If you don't know the answer, just say that you don't know, don't try to make up an answer.\n",
            "\n",
            "She had not gone much farther before she came in sight of the\n",
            "house of the March Hare:  she thought it must be the right house,\n",
            "because the chimneys were shaped like ears and the roof was\n",
            "thatched with fur.  It was so large a house, that she did not\n",
            "like to go nearer till she had nibbled some more of the lefthand\n",
            "bit of mushroom, and raised herself to about two feet high:  even\n",
            "then she walked up towards it rather timidly, saying to herself\n",
            "`Suppose it should be raving mad after all!  I almost wish I'd\n",
            "gone to see the Hatter instead!'\n",
            "\n",
            "                           CHAPTER VII\n",
            "\n",
            "                         A Mad Tea-Party\n",
            "\n",
            "`In THAT direction,' the Cat said, waving its right paw round,\n",
            "`lives a Hatter:  and in THAT direction,' waving the other paw,\n",
            "`lives a March Hare.  Visit either you like:  they're both mad.'\n",
            "\n",
            "  `But I don't want to go among mad people,' Alice remarked.\n",
            "\n",
            "  `Oh, you can't help that,' said the Cat:  `we're all mad here.\n",
            "I'm mad.  You're mad.'\n",
            "\n",
            "  `How do you know I'm mad?' said Alice.\n",
            "\n",
            "  `You must be,' said the Cat, `or you wouldn't have come here.'\n",
            "\n",
            "  Alice didn't think that proved it at all; however, she went on\n",
            "`And how do you know that you're mad?'\n",
            "\n",
            "  `To begin with,' said the Cat, `a dog's not mad.  You grant\n",
            "that?'\n",
            "\n",
            "  `I suppose so,' said Alice.\n",
            "\n",
            "  `Well, then,' the Cat went on, `you see, a dog growls when it's\n",
            "angry, and wags its tail when it's pleased.  Now I growl when I'm\n",
            "pleased, and wag my tail when I'm angry.  Therefore I'm mad.'\n",
            "\n",
            "  `I call it purring, not growling,' said Alice.\n",
            "\n",
            "  `Call it what you like,' said the Cat.  `Do you play croquet\n",
            "with the Queen to-day?'\n",
            "\n",
            "`I'm a poor man, your Majesty,' the Hatter began, in a\n",
            "trembling voice, `--and I hadn't begun my tea--not above a week\n",
            "or so--and what with the bread-and-butter getting so thin--and\n",
            "the twinkling of the tea--'\n",
            "\n",
            "  `The twinkling of the what?' said the King.\n",
            "\n",
            "  `It began with the tea,' the Hatter replied.\n",
            "\n",
            "  `Of course twinkling begins with a T!' said the King sharply.\n",
            "`Do you take me for a dunce?  Go on!'\n",
            "\n",
            "  `I'm a poor man,' the Hatter went on, `and most things\n",
            "twinkled after that--only the March Hare said--'\n",
            "\n",
            "  `I didn't!' the March Hare interrupted in a great hurry.\n",
            "\n",
            "  `You did!' said the Hatter.\n",
            "\n",
            "  `I deny it!' said the March Hare.\n",
            "\n",
            "  `He denies it,' said the King:  `leave out that part.'\n",
            "\n",
            "  `Well, at any rate, the Dormouse said--' the Hatter went on,\n",
            "looking anxiously round to see if he would deny it too:  but the\n",
            "Dormouse denied nothing, being fast asleep.\n",
            "\n",
            "  `After that,' continued the Hatter, `I cut some more bread-\n",
            "and-butter--'\n",
            "\n",
            "Alice took up the fan and gloves, and, as the hall was very\n",
            "hot, she kept fanning herself all the time she went on talking:\n",
            "`Dear, dear!  How queer everything is to-day!  And yesterday\n",
            "things went on just as usual.  I wonder if I've been changed in\n",
            "the night?  Let me think:  was I the same when I got up this\n",
            "morning?  I almost think I can remember feeling a little\n",
            "different.  But if I'm not the same, the next question is, Who in\n",
            "the world am I?  Ah, THAT'S the great puzzle!'  And she began\n",
            "thinking over all the children she knew that were of the same age\n",
            "as herself, to see if she could have been changed for any of\n",
            "them.\n",
            "\n",
            "Question: Who was mad hatter?\n",
            "Helpful Answer:\u001b[0m\n",
            "\n",
            "\u001b[1m> Finished chain.\u001b[0m\n",
            "\n",
            "\u001b[1m> Finished chain.\u001b[0m\n"
          ]
        },
        {
          "output_type": "execute_result",
          "data": {
            "text/plain": [
              "{'question': 'Who was mad hatter?',\n",
              " 'chat_history': '',\n",
              " 'answer': ' The hatter was mad. ',\n",
              " 'source_documents': [Document(page_content=\"She had not gone much farther before she came in sight of the\\nhouse of the March Hare:  she thought it must be the right house,\\nbecause the chimneys were shaped like ears and the roof was\\nthatched with fur.  It was so large a house, that she did not\\nlike to go nearer till she had nibbled some more of the lefthand\\nbit of mushroom, and raised herself to about two feet high:  even\\nthen she walked up towards it rather timidly, saying to herself\\n`Suppose it should be raving mad after all!  I almost wish I'd\\ngone to see the Hatter instead!'\\n\\n                           CHAPTER VII\\n\\n                         A Mad Tea-Party\", metadata={'source': 'alice_in_wonderland.txt'}),\n",
              "  Document(page_content=\"`In THAT direction,' the Cat said, waving its right paw round,\\n`lives a Hatter:  and in THAT direction,' waving the other paw,\\n`lives a March Hare.  Visit either you like:  they're both mad.'\\n\\n  `But I don't want to go among mad people,' Alice remarked.\\n\\n  `Oh, you can't help that,' said the Cat:  `we're all mad here.\\nI'm mad.  You're mad.'\\n\\n  `How do you know I'm mad?' said Alice.\\n\\n  `You must be,' said the Cat, `or you wouldn't have come here.'\\n\\n  Alice didn't think that proved it at all; however, she went on\\n`And how do you know that you're mad?'\\n\\n  `To begin with,' said the Cat, `a dog's not mad.  You grant\\nthat?'\\n\\n  `I suppose so,' said Alice.\\n\\n  `Well, then,' the Cat went on, `you see, a dog growls when it's\\nangry, and wags its tail when it's pleased.  Now I growl when I'm\\npleased, and wag my tail when I'm angry.  Therefore I'm mad.'\\n\\n  `I call it purring, not growling,' said Alice.\\n\\n  `Call it what you like,' said the Cat.  `Do you play croquet\\nwith the Queen to-day?'\", metadata={'source': 'alice_in_wonderland.txt'}),\n",
              "  Document(page_content=\"`I'm a poor man, your Majesty,' the Hatter began, in a\\ntrembling voice, `--and I hadn't begun my tea--not above a week\\nor so--and what with the bread-and-butter getting so thin--and\\nthe twinkling of the tea--'\\n\\n  `The twinkling of the what?' said the King.\\n\\n  `It began with the tea,' the Hatter replied.\\n\\n  `Of course twinkling begins with a T!' said the King sharply.\\n`Do you take me for a dunce?  Go on!'\\n\\n  `I'm a poor man,' the Hatter went on, `and most things\\ntwinkled after that--only the March Hare said--'\\n\\n  `I didn't!' the March Hare interrupted in a great hurry.\\n\\n  `You did!' said the Hatter.\\n\\n  `I deny it!' said the March Hare.\\n\\n  `He denies it,' said the King:  `leave out that part.'\\n\\n  `Well, at any rate, the Dormouse said--' the Hatter went on,\\nlooking anxiously round to see if he would deny it too:  but the\\nDormouse denied nothing, being fast asleep.\\n\\n  `After that,' continued the Hatter, `I cut some more bread-\\nand-butter--'\", metadata={'source': 'alice_in_wonderland.txt'}),\n",
              "  Document(page_content=\"Alice took up the fan and gloves, and, as the hall was very\\nhot, she kept fanning herself all the time she went on talking:\\n`Dear, dear!  How queer everything is to-day!  And yesterday\\nthings went on just as usual.  I wonder if I've been changed in\\nthe night?  Let me think:  was I the same when I got up this\\nmorning?  I almost think I can remember feeling a little\\ndifferent.  But if I'm not the same, the next question is, Who in\\nthe world am I?  Ah, THAT'S the great puzzle!'  And she began\\nthinking over all the children she knew that were of the same age\\nas herself, to see if she could have been changed for any of\\nthem.\", metadata={'source': 'alice_in_wonderland.txt'})]}"
            ]
          },
          "metadata": {},
          "execution_count": 30
        }
      ]
    },
    {
      "cell_type": "code",
      "source": [
        "# https://python.langchain.com/docs/integrations/vectorstores/activeloop_deeplake\n",
        "import random\n",
        "\n",
        "for d in docs:\n",
        "    d.metadata[\"year\"] = random.randint(2012, 2014)\n",
        "\n",
        "db = DeepLake.from_documents(\n",
        "    docs, embed_model, dataset_path=\"./my_deeplake/\", overwrite=True\n",
        ")"
      ],
      "metadata": {
        "colab": {
          "base_uri": "https://localhost:8080/"
        },
        "id": "3aFHszYIUyDp",
        "outputId": "d2c6671a-1d1c-49f6-c47e-8cfa0d48be33"
      },
      "execution_count": 31,
      "outputs": [
        {
          "output_type": "stream",
          "name": "stderr",
          "text": [
            "Creating 4 embeddings in 1 batches of size 4:: 100%|██████████| 1/1 [00:00<00:00,  7.96it/s]"
          ]
        },
        {
          "output_type": "stream",
          "name": "stdout",
          "text": [
            "Dataset(path='./my_deeplake/', tensors=['text', 'metadata', 'embedding', 'id'])\n",
            "\n",
            "  tensor      htype     shape     dtype  compression\n",
            "  -------    -------   -------   -------  ------- \n",
            "   text       text      (4, 1)     str     None   \n",
            " metadata     json      (4, 1)     str     None   \n",
            " embedding  embedding  (4, 512)  float32   None   \n",
            "    id        text      (4, 1)     str     None   \n"
          ]
        },
        {
          "output_type": "stream",
          "name": "stderr",
          "text": [
            "\n"
          ]
        }
      ]
    },
    {
      "cell_type": "code",
      "source": [
        "db.similarity_search(\n",
        "    \"What did the president say about Ketanji Brown Jackson\",\n",
        "    filter={\"metadata\": {\"year\": 2013}},\n",
        ")"
      ],
      "metadata": {
        "colab": {
          "base_uri": "https://localhost:8080/"
        },
        "id": "_gxzS7MXVEDA",
        "outputId": "28562d16-e915-4255-c8f2-07ca8d9ad041"
      },
      "execution_count": 32,
      "outputs": [
        {
          "output_type": "stream",
          "name": "stderr",
          "text": [
            "100%|██████████| 4/4 [00:00<00:00, 706.44it/s]\n"
          ]
        },
        {
          "output_type": "execute_result",
          "data": {
            "text/plain": [
              "[Document(page_content=\"All the time they were playing the Queen never left off\\nquarrelling with the other players, and shouting `Off with his\\nhead!' or `Off with her head!'  Those whom she sentenced were\\ntaken into custody by the soldiers, who of course had to leave\\noff being arches to do this, so that by the end of half an hour\\nor so there were no arches left, and all the players, except the\\nKing, the Queen, and Alice, were in custody and under sentence of\\nexecution.\\n\\n  Then the Queen left off, quite out of breath, and said to\\nAlice, `Have you seen the Mock Turtle yet?'\\n\\n  `No,' said Alice.  `I don't even know what a Mock Turtle is.'\\n\\n  `It's the thing Mock Turtle Soup is made from,' said the Queen.\\n\\n  `I never saw one, or heard of one,' said Alice.\\n\\n  `Come on, then,' said the Queen, `and he shall tell you his\\nhistory,'\", metadata={'source': 'alice_in_wonderland.txt', 'year': 2013}),\n",
              " Document(page_content=\"As they walked off together, Alice heard the King say in a low\\nvoice, to the company generally, `You are all pardoned.'  `Come,\\nTHAT'S a good thing!' she said to herself, for she had felt quite\\nunhappy at the number of executions the Queen had ordered.\\n\\n  They very soon came upon a Gryphon, lying fast asleep in the\\nsun.  (IF you don't know what a Gryphon is, look at the picture.)\\n`Up, lazy thing!' said the Queen, `and take this young lady to\\nsee the Mock Turtle, and to hear his history.  I must go back and\\nsee after some executions I have ordered'; and she walked off,\\nleaving Alice alone with the Gryphon.  Alice did not quite like\\nthe look of the creature, but on the whole she thought it would\\nbe quite as safe to stay with it as to go after that savage\\nQueen:  so she waited.\\n\\n  The Gryphon sat up and rubbed its eyes:  then it watched the\\nQueen till she was out of sight:  then it chuckled.  `What fun!'\\nsaid the Gryphon, half to itself, half to Alice.\\n\\n  `What IS the fun?' said Alice.\", metadata={'source': 'alice_in_wonderland.txt', 'year': 2013}),\n",
              " Document(page_content=\"Alice thought she might as well go back, and see how the game\\nwas going on, as she heard the Queen's voice in the distance,\\nscreaming with passion.  She had already heard her sentence three\\nof the players to be executed for having missed their turns, and\\nshe did not like the look of things at all, as the game was in\\nsuch confusion that she never knew whether it was her turn or\\nnot.  So she went in search of her hedgehog.\\n\\n  The hedgehog was engaged in a fight with another hedgehog,\\nwhich seemed to Alice an excellent opportunity for croqueting one\\nof them with the other:  the only difficulty was, that her\\nflamingo was gone across to the other side of the garden, where\\nAlice could see it trying in a helpless sort of way to fly up\\ninto a tree.\", metadata={'source': 'alice_in_wonderland.txt', 'year': 2013})]"
            ]
          },
          "metadata": {},
          "execution_count": 32
        }
      ]
    },
    {
      "cell_type": "code",
      "source": [
        "db.similarity_search(\n",
        "    \"What did the president say about Ketanji Brown Jackson?\", distance_metric=\"cos\"\n",
        ")"
      ],
      "metadata": {
        "colab": {
          "base_uri": "https://localhost:8080/"
        },
        "id": "sDpFbokZVKuS",
        "outputId": "86219d29-f60c-42e0-b0dc-6191ae304533"
      },
      "execution_count": 33,
      "outputs": [
        {
          "output_type": "execute_result",
          "data": {
            "text/plain": [
              "[Document(page_content=\"Alice looked at the jury-box, and saw that, in her haste, she\\nhad put the Lizard in head downwards, and the poor little thing\\nwas waving its tail about in a melancholy way, being quite unable\\nto move.  She soon got it out again, and put it right; `not that\\nit signifies much,' she said to herself; `I should think it\\nwould be QUITE as much use in the trial one way up as the other.'\\n\\n  As soon as the jury had a little recovered from the shock of\\nbeing upset, and their slates and pencils had been found and\\nhanded back to them, they set to work very diligently to write\\nout a history of the accident, all except the Lizard, who seemed\\ntoo much overcome to do anything but sit with its mouth open,\\ngazing up into the roof of the court.\\n\\n  `What do you know about this business?' the King said to\\nAlice.\\n\\n  `Nothing,' said Alice.\\n\\n  `Nothing WHATEVER?' persisted the King.\\n\\n  `Nothing whatever,' said Alice.\", metadata={'source': 'alice_in_wonderland.txt', 'year': 2014}),\n",
              " Document(page_content=\"All the time they were playing the Queen never left off\\nquarrelling with the other players, and shouting `Off with his\\nhead!' or `Off with her head!'  Those whom she sentenced were\\ntaken into custody by the soldiers, who of course had to leave\\noff being arches to do this, so that by the end of half an hour\\nor so there were no arches left, and all the players, except the\\nKing, the Queen, and Alice, were in custody and under sentence of\\nexecution.\\n\\n  Then the Queen left off, quite out of breath, and said to\\nAlice, `Have you seen the Mock Turtle yet?'\\n\\n  `No,' said Alice.  `I don't even know what a Mock Turtle is.'\\n\\n  `It's the thing Mock Turtle Soup is made from,' said the Queen.\\n\\n  `I never saw one, or heard of one,' said Alice.\\n\\n  `Come on, then,' said the Queen, `and he shall tell you his\\nhistory,'\", metadata={'source': 'alice_in_wonderland.txt', 'year': 2013}),\n",
              " Document(page_content=\"As they walked off together, Alice heard the King say in a low\\nvoice, to the company generally, `You are all pardoned.'  `Come,\\nTHAT'S a good thing!' she said to herself, for she had felt quite\\nunhappy at the number of executions the Queen had ordered.\\n\\n  They very soon came upon a Gryphon, lying fast asleep in the\\nsun.  (IF you don't know what a Gryphon is, look at the picture.)\\n`Up, lazy thing!' said the Queen, `and take this young lady to\\nsee the Mock Turtle, and to hear his history.  I must go back and\\nsee after some executions I have ordered'; and she walked off,\\nleaving Alice alone with the Gryphon.  Alice did not quite like\\nthe look of the creature, but on the whole she thought it would\\nbe quite as safe to stay with it as to go after that savage\\nQueen:  so she waited.\\n\\n  The Gryphon sat up and rubbed its eyes:  then it watched the\\nQueen till she was out of sight:  then it chuckled.  `What fun!'\\nsaid the Gryphon, half to itself, half to Alice.\\n\\n  `What IS the fun?' said Alice.\", metadata={'source': 'alice_in_wonderland.txt', 'year': 2013}),\n",
              " Document(page_content=\"Alice thought she might as well go back, and see how the game\\nwas going on, as she heard the Queen's voice in the distance,\\nscreaming with passion.  She had already heard her sentence three\\nof the players to be executed for having missed their turns, and\\nshe did not like the look of things at all, as the game was in\\nsuch confusion that she never knew whether it was her turn or\\nnot.  So she went in search of her hedgehog.\\n\\n  The hedgehog was engaged in a fight with another hedgehog,\\nwhich seemed to Alice an excellent opportunity for croqueting one\\nof them with the other:  the only difficulty was, that her\\nflamingo was gone across to the other side of the garden, where\\nAlice could see it trying in a helpless sort of way to fly up\\ninto a tree.\", metadata={'source': 'alice_in_wonderland.txt', 'year': 2013})]"
            ]
          },
          "metadata": {},
          "execution_count": 33
        }
      ]
    },
    {
      "cell_type": "code",
      "source": [
        "db.max_marginal_relevance_search(\n",
        "    \"What did the president say about Ketanji Brown Jackson?\"\n",
        ")"
      ],
      "metadata": {
        "colab": {
          "base_uri": "https://localhost:8080/"
        },
        "id": "xYT22V3iVQPz",
        "outputId": "5ee791d4-e541-4179-f5ae-296a68bf1f79"
      },
      "execution_count": 34,
      "outputs": [
        {
          "output_type": "execute_result",
          "data": {
            "text/plain": [
              "[Document(page_content=\"Alice looked at the jury-box, and saw that, in her haste, she\\nhad put the Lizard in head downwards, and the poor little thing\\nwas waving its tail about in a melancholy way, being quite unable\\nto move.  She soon got it out again, and put it right; `not that\\nit signifies much,' she said to herself; `I should think it\\nwould be QUITE as much use in the trial one way up as the other.'\\n\\n  As soon as the jury had a little recovered from the shock of\\nbeing upset, and their slates and pencils had been found and\\nhanded back to them, they set to work very diligently to write\\nout a history of the accident, all except the Lizard, who seemed\\ntoo much overcome to do anything but sit with its mouth open,\\ngazing up into the roof of the court.\\n\\n  `What do you know about this business?' the King said to\\nAlice.\\n\\n  `Nothing,' said Alice.\\n\\n  `Nothing WHATEVER?' persisted the King.\\n\\n  `Nothing whatever,' said Alice.\", metadata={'source': 'alice_in_wonderland.txt', 'year': 2014}),\n",
              " Document(page_content=\"All the time they were playing the Queen never left off\\nquarrelling with the other players, and shouting `Off with his\\nhead!' or `Off with her head!'  Those whom she sentenced were\\ntaken into custody by the soldiers, who of course had to leave\\noff being arches to do this, so that by the end of half an hour\\nor so there were no arches left, and all the players, except the\\nKing, the Queen, and Alice, were in custody and under sentence of\\nexecution.\\n\\n  Then the Queen left off, quite out of breath, and said to\\nAlice, `Have you seen the Mock Turtle yet?'\\n\\n  `No,' said Alice.  `I don't even know what a Mock Turtle is.'\\n\\n  `It's the thing Mock Turtle Soup is made from,' said the Queen.\\n\\n  `I never saw one, or heard of one,' said Alice.\\n\\n  `Come on, then,' said the Queen, `and he shall tell you his\\nhistory,'\", metadata={'source': 'alice_in_wonderland.txt', 'year': 2013}),\n",
              " Document(page_content=\"Alice thought she might as well go back, and see how the game\\nwas going on, as she heard the Queen's voice in the distance,\\nscreaming with passion.  She had already heard her sentence three\\nof the players to be executed for having missed their turns, and\\nshe did not like the look of things at all, as the game was in\\nsuch confusion that she never knew whether it was her turn or\\nnot.  So she went in search of her hedgehog.\\n\\n  The hedgehog was engaged in a fight with another hedgehog,\\nwhich seemed to Alice an excellent opportunity for croqueting one\\nof them with the other:  the only difficulty was, that her\\nflamingo was gone across to the other side of the garden, where\\nAlice could see it trying in a helpless sort of way to fly up\\ninto a tree.\", metadata={'source': 'alice_in_wonderland.txt', 'year': 2013}),\n",
              " Document(page_content=\"As they walked off together, Alice heard the King say in a low\\nvoice, to the company generally, `You are all pardoned.'  `Come,\\nTHAT'S a good thing!' she said to herself, for she had felt quite\\nunhappy at the number of executions the Queen had ordered.\\n\\n  They very soon came upon a Gryphon, lying fast asleep in the\\nsun.  (IF you don't know what a Gryphon is, look at the picture.)\\n`Up, lazy thing!' said the Queen, `and take this young lady to\\nsee the Mock Turtle, and to hear his history.  I must go back and\\nsee after some executions I have ordered'; and she walked off,\\nleaving Alice alone with the Gryphon.  Alice did not quite like\\nthe look of the creature, but on the whole she thought it would\\nbe quite as safe to stay with it as to go after that savage\\nQueen:  so she waited.\\n\\n  The Gryphon sat up and rubbed its eyes:  then it watched the\\nQueen till she was out of sight:  then it chuckled.  `What fun!'\\nsaid the Gryphon, half to itself, half to Alice.\\n\\n  `What IS the fun?' said Alice.\", metadata={'source': 'alice_in_wonderland.txt', 'year': 2013})]"
            ]
          },
          "metadata": {},
          "execution_count": 34
        }
      ]
    },
    {
      "cell_type": "code",
      "source": [
        "\n",
        "db = DeepLake(dataset_path='./vectordbs/deeplake/deeplake_default', embedding=embed_model)\n",
        "\n",
        "db.delete(\n",
        "    filter={'metadata': {'key': 'value'}}\n",
        ")"
      ],
      "metadata": {
        "colab": {
          "base_uri": "https://localhost:8080/",
          "height": 245
        },
        "id": "rBcasQ7QZEo1",
        "outputId": "68cd48bf-24e6-4bb0-acf1-06836d5a0b00"
      },
      "execution_count": 1,
      "outputs": [
        {
          "output_type": "error",
          "ename": "NameError",
          "evalue": "ignored",
          "traceback": [
            "\u001b[0;31m---------------------------------------------------------------------------\u001b[0m",
            "\u001b[0;31mNameError\u001b[0m                                 Traceback (most recent call last)",
            "\u001b[0;32m<ipython-input-1-7c5d709927ec>\u001b[0m in \u001b[0;36m<cell line: 1>\u001b[0;34m()\u001b[0m\n\u001b[0;32m----> 1\u001b[0;31m \u001b[0mdb\u001b[0m \u001b[0;34m=\u001b[0m \u001b[0mDeepLake\u001b[0m\u001b[0;34m(\u001b[0m\u001b[0mdataset_path\u001b[0m\u001b[0;34m=\u001b[0m\u001b[0;34m'./vectordbs/deeplake/deeplake_default'\u001b[0m\u001b[0;34m,\u001b[0m \u001b[0membedding\u001b[0m\u001b[0;34m=\u001b[0m\u001b[0membed_model\u001b[0m\u001b[0;34m)\u001b[0m\u001b[0;34m\u001b[0m\u001b[0;34m\u001b[0m\u001b[0m\n\u001b[0m\u001b[1;32m      2\u001b[0m \u001b[0;34m\u001b[0m\u001b[0m\n\u001b[1;32m      3\u001b[0m db.delete(\n\u001b[1;32m      4\u001b[0m     \u001b[0mfilter\u001b[0m\u001b[0;34m=\u001b[0m\u001b[0;34m{\u001b[0m\u001b[0;34m'metadata'\u001b[0m\u001b[0;34m:\u001b[0m \u001b[0;34m{\u001b[0m\u001b[0;34m'key'\u001b[0m\u001b[0;34m:\u001b[0m \u001b[0;34m'value'\u001b[0m\u001b[0;34m}\u001b[0m\u001b[0;34m}\u001b[0m\u001b[0;34m\u001b[0m\u001b[0;34m\u001b[0m\u001b[0m\n\u001b[1;32m      5\u001b[0m )\n",
            "\u001b[0;31mNameError\u001b[0m: name 'DeepLake' is not defined"
          ]
        }
      ]
    }
  ]
}